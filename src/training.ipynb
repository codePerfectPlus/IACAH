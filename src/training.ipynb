{
 "cells": [
  {
   "cell_type": "markdown",
   "id": "1faa7475",
   "metadata": {},
   "source": [
    "# IACAH (India Academia Connect AI Hackathon)\n",
    "\n",
    "Date - October 4-13, 2021\n",
    "\n",
    "Artificial intelligence will be an enormous part of the future workforce. It’s expected to generate 2 million net job gains versus losses by 2025. India Academia Connect AI Hackathon will help the participants from leading research institutions with the opportunity to learn and implement the latest AI technology, preparing them for a future AI-powered economy, with a large research and developer base.\n",
    "\n",
    "Data Download Link:- [GDrive Link](https://drive.google.com/drive/folders/1O8TT0s4zMyiI6zR-biVRoiLiAUy-W1H0?usp=sharing)"
   ]
  },
  {
   "cell_type": "markdown",
   "id": "ea83c2bf",
   "metadata": {},
   "source": [
    "#### Primary Goal:- To classify the Images into Background and Text\n",
    "    To Classify the Images into two categories(Background or Text) using Tensorflow and Keras.\n",
    "\n",
    "#### Solution:- \n",
    "    It's a Binary Class classification problem. It can be solved using CNN classifier.\n",
    "    Train the Model using transfer learning. We used VGG16 as feature extractor and used Dropout to avoid overfitting. we used some ImageDataAugmentation technique to make model more robust and better. we are using modelcheckpoint and earlystopping callbacks function to get the best model possible\n",
    "\n",
    "#### Result:- \n",
    "    we evalute the model on test_data(unseen data) using evlaute function and got the approx 92% accuracy. The Accuracy may be improve using new model like Resnet or Imagenet. Although Vgg16 is also works as feature extractor."
   ]
  },
  {
   "cell_type": "code",
   "execution_count": 134,
   "id": "4a53e261",
   "metadata": {},
   "outputs": [],
   "source": [
    "import os\n",
    "import json\n",
    "from matplotlib import pyplot as plt\n",
    "import tensorflow as tf\n",
    "from tensorflow.keras.models import Model\n",
    "from tensorflow.keras import layers\n",
    "from tensorflow.keras.preprocessing.image import ImageDataGenerator\n",
    "from tensorflow.keras.applications import vgg16\n",
    "from tensorflow.keras.applications.vgg16 import preprocess_input\n",
    "from tensorflow.keras.losses import BinaryCrossentropy\n",
    "from tensorflow.keras.callbacks import ModelCheckpoint, EarlyStopping\n",
    "from tensorflow.keras.preprocessing import image"
   ]
  },
  {
   "cell_type": "code",
   "execution_count": 2,
   "id": "9bb143c3",
   "metadata": {},
   "outputs": [],
   "source": [
    "train_dir = \"training\" \n",
    "test_dir = \"test\"\n",
    "batch_size = 50\n",
    "img_size = (64, 64)"
   ]
  },
  {
   "cell_type": "code",
   "execution_count": 23,
   "id": "b9661b3c",
   "metadata": {},
   "outputs": [],
   "source": [
    "train_datagen = ImageDataGenerator(\n",
    "    validation_split=0.2, preprocessing_function=preprocess_input)"
   ]
  },
  {
   "cell_type": "code",
   "execution_count": 24,
   "id": "fc896050",
   "metadata": {},
   "outputs": [
    {
     "name": "stdout",
     "output_type": "stream",
     "text": [
      "Found 4700 images belonging to 2 classes.\n",
      "Found 1175 images belonging to 2 classes.\n"
     ]
    }
   ],
   "source": [
    "train_data= train_datagen.flow_from_directory(\n",
    "    train_dir,\n",
    "    batch_size=batch_size,\n",
    "    target_size=img_size,\n",
    "    subset=\"training\",\n",
    "    class_mode=\"binary\")\n",
    "val_data= train_datagen.flow_from_directory(\n",
    "    train_dir,\n",
    "    batch_size=batch_size,\n",
    "    target_size=img_size,\n",
    "    subset=\"validation\",\n",
    "    class_mode=\"binary\")"
   ]
  },
  {
   "cell_type": "code",
   "execution_count": 4,
   "id": "bc075e73",
   "metadata": {},
   "outputs": [],
   "source": [
    "base_model = vgg16.VGG16(weights=\"imagenet\", include_top=False, input_shape=(64, 64, 3))"
   ]
  },
  {
   "cell_type": "code",
   "execution_count": 5,
   "id": "f8d40f5c",
   "metadata": {},
   "outputs": [],
   "source": [
    "base_model.trainable= True"
   ]
  },
  {
   "cell_type": "code",
   "execution_count": 6,
   "id": "eff42344",
   "metadata": {},
   "outputs": [],
   "source": [
    "inputs = layers.Input(shape=(64, 64, 3))\n",
    "x = base_model(inputs)\n",
    "x = layers.GlobalAveragePooling2D()(x)\n",
    "x = layers.Dropout(0.5)(x)\n",
    "x = layers.Dense(128, activation=\"relu\")(x)\n",
    "x = layers.Dropout(0.5)(x)\n",
    "outputs = layers.Dense(1, activation=\"sigmoid\")(x)"
   ]
  },
  {
   "cell_type": "code",
   "execution_count": 7,
   "id": "b50265af",
   "metadata": {},
   "outputs": [],
   "source": [
    "clf_model = Model(inputs, outputs)"
   ]
  },
  {
   "cell_type": "code",
   "execution_count": 8,
   "id": "5328d9c1",
   "metadata": {},
   "outputs": [
    {
     "name": "stdout",
     "output_type": "stream",
     "text": [
      "Model: \"model\"\n",
      "_________________________________________________________________\n",
      "Layer (type)                 Output Shape              Param #   \n",
      "=================================================================\n",
      "input_2 (InputLayer)         [(None, 64, 64, 3)]       0         \n",
      "_________________________________________________________________\n",
      "vgg16 (Functional)           (None, 2, 2, 512)         14714688  \n",
      "_________________________________________________________________\n",
      "global_average_pooling2d (Gl (None, 512)               0         \n",
      "_________________________________________________________________\n",
      "dropout (Dropout)            (None, 512)               0         \n",
      "_________________________________________________________________\n",
      "dense (Dense)                (None, 128)               65664     \n",
      "_________________________________________________________________\n",
      "dropout_1 (Dropout)          (None, 128)               0         \n",
      "_________________________________________________________________\n",
      "dense_1 (Dense)              (None, 1)                 129       \n",
      "=================================================================\n",
      "Total params: 14,780,481\n",
      "Trainable params: 14,780,481\n",
      "Non-trainable params: 0\n",
      "_________________________________________________________________\n"
     ]
    }
   ],
   "source": [
    "clf_model.summary()"
   ]
  },
  {
   "cell_type": "code",
   "execution_count": 9,
   "id": "4a0414b1",
   "metadata": {},
   "outputs": [],
   "source": [
    "clf_model.compile(\n",
    "    optimizer=\"adam\",\n",
    "    loss=BinaryCrossentropy(),\n",
    "    metrics=[\"accuracy\"])"
   ]
  },
  {
   "cell_type": "code",
   "execution_count": 10,
   "id": "1ac08bde",
   "metadata": {},
   "outputs": [],
   "source": [
    "modelcheckpoint = ModelCheckpoint(\n",
    "    \"tmp\",\n",
    "    save_best_only=True)\n",
    "\n",
    "earlystopping = EarlyStopping(\n",
    "    monitor=\"val_loss\",\n",
    "    patience=5,\n",
    "    restore_best_weights=True)"
   ]
  },
  {
   "cell_type": "code",
   "execution_count": 11,
   "id": "b03acc03",
   "metadata": {},
   "outputs": [],
   "source": [
    "callbacks = [earlystopping, modelcheckpoint]"
   ]
  },
  {
   "cell_type": "code",
   "execution_count": 12,
   "id": "e84cb93b",
   "metadata": {},
   "outputs": [
    {
     "name": "stdout",
     "output_type": "stream",
     "text": [
      "Loading weight from last checkpoint\n"
     ]
    }
   ],
   "source": [
    "try:\n",
    "    clf_model.load_weights(\"tmp\")\n",
    "    print(\"Loading weight from last checkpoint\")\n",
    "except Exception as e:\n",
    "    print(\"no weight found. Training from scratch\")"
   ]
  },
  {
   "cell_type": "code",
   "execution_count": 29,
   "id": "b90a64e7",
   "metadata": {},
   "outputs": [
    {
     "name": "stdout",
     "output_type": "stream",
     "text": [
      "Epoch 1/5\n",
      "94/94 [==============================] - 181s 2s/step - loss: 0.1142 - accuracy: 0.9596 - val_loss: 0.3739 - val_accuracy: 0.8255\n",
      "Epoch 2/5\n",
      "94/94 [==============================] - 192s 2s/step - loss: 0.0825 - accuracy: 0.9736 - val_loss: 0.1829 - val_accuracy: 0.9328\n",
      "INFO:tensorflow:Assets written to: tmp\\assets\n",
      "Epoch 3/5\n",
      "94/94 [==============================] - 184s 2s/step - loss: 0.1061 - accuracy: 0.9679 - val_loss: 0.2885 - val_accuracy: 0.9174\n",
      "Epoch 4/5\n",
      "94/94 [==============================] - 183s 2s/step - loss: 0.0746 - accuracy: 0.9766 - val_loss: 0.1918 - val_accuracy: 0.9285\n",
      "Epoch 5/5\n",
      "94/94 [==============================] - 184s 2s/step - loss: 0.0578 - accuracy: 0.9809 - val_loss: 0.2062 - val_accuracy: 0.9370\n"
     ]
    }
   ],
   "source": [
    "history = clf_model.fit(\n",
    "    train_data,\n",
    "    epochs=5,\n",
    "    batch_size=batch_size,\n",
    "    validation_data=val_data,\n",
    "    callbacks=callbacks\n",
    ")"
   ]
  },
  {
   "cell_type": "code",
   "execution_count": 30,
   "id": "8952ebf3",
   "metadata": {},
   "outputs": [
    {
     "data": {
      "image/png": "[encoded data removed]",
      "text/plain": [
       "<Figure size 432x288 with 1 Axes>"
      ]
     },
     "metadata": {
      "needs_background": "light"
     },
     "output_type": "display_data"
    },
    {
     "data": {
      "image/png": "[encoded data removed]",
      "text/plain": [
       "<Figure size 432x288 with 1 Axes>"
      ]
     },
     "metadata": {
      "needs_background": "light"
     },
     "output_type": "display_data"
    }
   ],
   "source": [
    "his = history.history\n",
    "\n",
    "plt.plot(his[\"accuracy\"])\n",
    "plt.plot(his[\"val_accuracy\"])\n",
    "plt.legend([\"Accuracy\", \"Val Accuracy\"])\n",
    "#plt.savefig(\"graph/accuracy_Graph.png\")\n",
    "plt.show()\n",
    "\n",
    "plt.plot(his[\"loss\"])\n",
    "plt.plot(his[\"val_loss\"])\n",
    "plt.legend([\"Loss\", \"Val Loss\"])\n",
    "#plt.savefig(\"graph/loss_Graph.png\")\n",
    "plt.show()"
   ]
  },
  {
   "cell_type": "code",
   "execution_count": 16,
   "id": "d1dd83f5",
   "metadata": {},
   "outputs": [],
   "source": [
    "test_datagen = ImageDataGenerator(preprocessing_function=preprocess_input)"
   ]
  },
  {
   "cell_type": "code",
   "execution_count": 46,
   "id": "b4e1bf8a",
   "metadata": {},
   "outputs": [
    {
     "name": "stdout",
     "output_type": "stream",
     "text": [
      "Found 98 images belonging to 2 classes.\n"
     ]
    }
   ],
   "source": [
    "test_data = test_datagen.flow_from_directory(\n",
    "    \"test2\",\n",
    "    batch_size=batch_size,\n",
    "    target_size=img_size,\n",
    "    class_mode=\"binary\")"
   ]
  },
  {
   "cell_type": "code",
   "execution_count": 47,
   "id": "53c102e1",
   "metadata": {},
   "outputs": [
    {
     "name": "stdout",
     "output_type": "stream",
     "text": [
      "2/2 [==============================] - 1s 472ms/step - loss: 0.3279 - accuracy: 0.9286\n"
     ]
    }
   ],
   "source": [
    "loss, accuracy = clf_model.evaluate(test_data)"
   ]
  },
  {
   "cell_type": "code",
   "execution_count": 48,
   "id": "8134d4b4",
   "metadata": {},
   "outputs": [
    {
     "name": "stdout",
     "output_type": "stream",
     "text": [
      "Loss on Test Data 0.32787051796913147\n",
      "Accuracy on Test Data 0.9285714030265808\n"
     ]
    }
   ],
   "source": [
    "print(\"Loss on Test Data\", loss)\n",
    "print(\"Accuracy on Test Data\", accuracy)"
   ]
  },
  {
   "cell_type": "code",
   "execution_count": 49,
   "id": "b7a0deb7",
   "metadata": {},
   "outputs": [
    {
     "name": "stdout",
     "output_type": "stream",
     "text": [
      "24/24 [==============================] - 12s 505ms/step - loss: 0.1829 - accuracy: 0.9328\n"
     ]
    }
   ],
   "source": [
    "loss, accuracy = clf_model.evaluate(val_data)"
   ]
  },
  {
   "cell_type": "code",
   "execution_count": 50,
   "id": "ada1591c",
   "metadata": {},
   "outputs": [
    {
     "name": "stdout",
     "output_type": "stream",
     "text": [
      "Loss on Validation Data 0.18287110328674316\n",
      "Accuracy on Validation Data 0.9327659606933594\n"
     ]
    }
   ],
   "source": [
    "print(\"Loss on Validation Data\", loss)\n",
    "print(\"Accuracy on Validation Data\", accuracy)"
   ]
  },
  {
   "cell_type": "code",
   "execution_count": 132,
   "id": "9967c246",
   "metadata": {},
   "outputs": [],
   "source": [
    "# Creating Json File to submit the solution\n",
    "final_output = {}\n",
    "for image_name in os.listdir(\"test\"):\n",
    "    img_ = image.load_img(os.path.join(\"test\", image_name), target_size=(64, 64), color_mode=\"rgb\")\n",
    "    img_arr = image.img_to_array(img_)\n",
    "    img_arr = preprocess_input(img_arr)\n",
    "    img_batch = np.array([img_arr])\n",
    "    output = clf_model.predict(img_batch)\n",
    "    if output > 0.5:\n",
    "        final_output[image_name] = 1\n",
    "    else:\n",
    "        final_output[image_name] = 0"
   ]
  },
  {
   "cell_type": "code",
   "execution_count": 138,
   "id": "014dd312",
   "metadata": {},
   "outputs": [],
   "source": [
    "with open(\"result.json\", \"w\") as file:\n",
    "    json.dump(final_output, file)"
   ]
  },
  {
   "cell_type": "code",
   "execution_count": null,
   "id": "2104ca2f",
   "metadata": {},
   "outputs": [],
   "source": []
  }
 ],
 "metadata": {
  "kernelspec": {
   "display_name": "Python 3 (ipykernel)",
   "language": "python",
   "name": "python3"
  },
  "language_info": {
   "codemirror_mode": {
    "name": "ipython",
    "version": 3
   },
   "file_extension": ".py",
   "mimetype": "text/x-python",
   "name": "python",
   "nbconvert_exporter": "python",
   "pygments_lexer": "ipython3",
   "version": "3.9.6"
  }
 },
 "nbformat": 4,
 "nbformat_minor": 5
}
