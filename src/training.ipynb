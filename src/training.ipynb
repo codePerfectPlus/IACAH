{
  "nbformat": 4,
  "nbformat_minor": 5,
  "metadata": {
    "kernelspec": {
      "display_name": "Python 3 (ipykernel)",
      "language": "python",
      "name": "python3"
    },
    "language_info": {
      "codemirror_mode": {
        "name": "ipython",
        "version": 3
      },
      "file_extension": ".py",
      "mimetype": "text/x-python",
      "name": "python",
      "nbconvert_exporter": "python",
      "pygments_lexer": "ipython3",
      "version": "3.9.6"
    },
    "colab": {
      "name": "training.ipynb",
      "provenance": []
    },
    "accelerator": "GPU"
  },
  "cells": [
    {
      "cell_type": "markdown",
      "metadata": {
        "id": "1faa7475"
      },
      "source": [
        "# IACAH (India Academia Connect AI Hackathon)\n",
        "\n",
        "Date - October 4-13, 2021\n",
        "\n",
        "Artificial intelligence will be an enormous part of the future workforce. It’s expected to generate 2 million net job gains versus losses by 2025. India Academia Connect AI Hackathon will help the participants from leading research institutions with the opportunity to learn and implement the latest AI technology, preparing them for a future AI-powered economy, with a large research and developer base.\n",
        "\n",
        "Data Download Link:- [GDrive Link](https://drive.google.com/drive/folders/1O8TT0s4zMyiI6zR-biVRoiLiAUy-W1H0?usp=sharing)"
      ],
      "id": "1faa7475"
    },
    {
      "cell_type": "markdown",
      "metadata": {
        "id": "ea83c2bf"
      },
      "source": [
        "#### Primary Goal:- To classify the Images into Background and Text\n",
        "    To Classify the Images into two categories(Background or Text) using Tensorflow and Keras.\n",
        "\n",
        "#### Solution:- \n",
        "    It's a Binary Class classification problem. It can be solved using CNN classifier.\n",
        "    Train the Model using transfer learning. We used VGG16 as feature extractor and used Dropout to avoid overfitting. we used some ImageDataAugmentation technique to make model more robust and better. we are using modelcheckpoint and earlystopping callbacks function to get the best model possible\n",
        "\n",
        "#### Result:- \n",
        "    we evalute the model on test_data(unseen data) using evlaute function and got the approx 92% accuracy. The Accuracy may be improve using new model like Resnet or Imagenet. Although Vgg16 is also works as feature extractor."
      ],
      "id": "ea83c2bf"
    },
    {
      "cell_type": "code",
      "metadata": {
        "id": "4a53e261"
      },
      "source": [
        "import os\n",
        "import json\n",
        "import numpy as np\n",
        "import pandas as pd\n",
        "from PIL import Image\n",
        "from matplotlib import pyplot as plt\n",
        "import tensorflow as tf\n",
        "from sklearn.utils import shuffle\n",
        "from sklearn.model_selection import train_test_split\n",
        "from tensorflow.keras.models import Model\n",
        "from tensorflow.keras import layers\n",
        "from tensorflow.keras.preprocessing.image import ImageDataGenerator\n",
        "from tensorflow.keras.applications import vgg16\n",
        "from tensorflow.keras.applications.vgg16 import preprocess_input\n",
        "from tensorflow.keras.losses import BinaryCrossentropy\n",
        "from tensorflow.keras.callbacks import ModelCheckpoint, EarlyStopping\n",
        "from tensorflow.keras.preprocessing import image"
      ],
      "id": "4a53e261",
      "execution_count": 30,
      "outputs": []
    },
    {
      "cell_type": "code",
      "metadata": {
        "id": "9bb143c3"
      },
      "source": [
        "train_dir = \"training\" \n",
        "test_dir = \"test\"\n",
        "batch_size = 50\n",
        "img_size = (64, 64)\n",
        "num_class = len(os.listdir(train_dir))\n",
        "idx_to_name = os.listdir(train_dir)\n",
        "name_to_idx = dict([(v, k) for k, v in enumerate(idx_to_name)])"
      ],
      "id": "9bb143c3",
      "execution_count": 31,
      "outputs": []
    },
    {
      "cell_type": "code",
      "metadata": {
        "id": "b9661b3c"
      },
      "source": [
        "def data_to_df(data_dir, subset=None):\n",
        "    df = pd.DataFrame(columns=['filenames', 'labels'])\n",
        "\n",
        "    filenames = []\n",
        "    labels = []\n",
        "    for dataset in os.listdir(data_dir):\n",
        "        img_list = os.listdir(os.path.join(data_dir, dataset))\n",
        "\n",
        "        label = name_to_idx[dataset]\n",
        "\n",
        "        for image in img_list:\n",
        "            filenames.append(os.path.join(data_dir, dataset, image))\n",
        "            labels.append(label)\n",
        "\n",
        "    df[\"filenames\"] = filenames\n",
        "    df[\"labels\"] = labels\n",
        "    \n",
        "    if subset == \"train\":\n",
        "        train_df, val_df = train_test_split(df, train_size=0.8, shuffle=True)    \n",
        "        return train_df, val_df\n",
        "    return df"
      ],
      "id": "b9661b3c",
      "execution_count": 32,
      "outputs": []
    },
    {
      "cell_type": "code",
      "metadata": {
        "id": "fc896050"
      },
      "source": [
        "train_df, val_df = data_to_df(train_dir, subset=\"train\")\n",
        "root_dir = os.path.dirname(os.path.abspath(\"training.py\"))"
      ],
      "id": "fc896050",
      "execution_count": 33,
      "outputs": []
    },
    {
      "cell_type": "code",
      "metadata": {
        "id": "IfMfhKfss4k0"
      },
      "source": [
        "class CustomDataGenerator:\n",
        "\n",
        "    def __init__(self, data_frame):\n",
        "        self.data_frame = data_frame\n",
        "    \n",
        "    def load_samples(self):\n",
        "        data = self.data_frame\n",
        "        data = data[[\"filenames\", \"labels\"]]\n",
        "        filenames = list(data[\"filenames\"])\n",
        "        labels = list(data[\"labels\"])\n",
        "\n",
        "        samples = []\n",
        "        for filename, label in zip(filenames, labels):\n",
        "            samples.append([filename, label])\n",
        "        return samples\n",
        "        \n",
        "    def resize_img(self, img):\n",
        "        img = np.resize(img, (64, 64, 3))\n",
        "        return img\n",
        "    \n",
        "    def __len__(self):\n",
        "        return len(self.data_frame)\n",
        "    \n",
        "    def preprocessing(self, img, label):\n",
        "        img = preprocess_input(img)\n",
        "        return img, label\n",
        "\n",
        "    def generators(self, samples, batch_size=10, shuffle_data=True, resize=True,):\n",
        "        num_samples = len(samples)\n",
        "\n",
        "        while True:\n",
        "            samples = shuffle(samples)\n",
        "            for offset in range(0, num_samples, batch_size):\n",
        "                batch_samples = samples[offset:offset+batch_size]\n",
        "                \n",
        "                X_train = []\n",
        "                y_train = []\n",
        "\n",
        "                for batch_sample in batch_samples:\n",
        "                    img_name = batch_sample[0]\n",
        "                    label = batch_sample[1]\n",
        "\n",
        "                    img = np.asarray(Image.open(os.path.join(root_dir, img_name)))\n",
        "                    if resize:\n",
        "                        img = self.resize_img(img)\n",
        "                    img, label = self.preprocessing(img, label)\n",
        "\n",
        "                    X_train.append(img)\n",
        "                    y_train.append(label)\n",
        "\n",
        "                X_train = np.array(X_train)\n",
        "                y_train = np.array(y_train)\n",
        "\n",
        "                yield X_train, y_train"
      ],
      "id": "IfMfhKfss4k0",
      "execution_count": 34,
      "outputs": []
    },
    {
      "cell_type": "code",
      "metadata": {
        "id": "H7A99D6as9lH"
      },
      "source": [
        "# creating customDataGenerator object\n",
        "train_datagen = CustomDataGenerator(train_df)\n",
        "val_datagen = CustomDataGenerator(val_df)"
      ],
      "id": "H7A99D6as9lH",
      "execution_count": 35,
      "outputs": []
    },
    {
      "cell_type": "code",
      "metadata": {
        "id": "UtydZiJns9ol"
      },
      "source": [
        "# creating sample with dataframe \n",
        "train_sample = train_datagen.load_samples()\n",
        "val_sample = val_datagen.load_samples()"
      ],
      "id": "UtydZiJns9ol",
      "execution_count": 36,
      "outputs": []
    },
    {
      "cell_type": "code",
      "metadata": {
        "id": "mNUiGrjztCn7"
      },
      "source": [
        "# creating train and validation data\n",
        "train_data = train_datagen.generators(train_sample, batch_size=batch_size)\n",
        "val_data = val_datagen.generators(val_sample, batch_size=batch_size)"
      ],
      "id": "mNUiGrjztCn7",
      "execution_count": 37,
      "outputs": []
    },
    {
      "cell_type": "code",
      "metadata": {
        "id": "bc075e73"
      },
      "source": [
        "base_model = vgg16.VGG16(weights=\"imagenet\", include_top=False, input_shape=(64, 64, 3))"
      ],
      "id": "bc075e73",
      "execution_count": 38,
      "outputs": []
    },
    {
      "cell_type": "code",
      "metadata": {
        "id": "f8d40f5c"
      },
      "source": [
        "base_model.trainable= True"
      ],
      "id": "f8d40f5c",
      "execution_count": 39,
      "outputs": []
    },
    {
      "cell_type": "code",
      "metadata": {
        "id": "eff42344"
      },
      "source": [
        "inputs = layers.Input(shape=(64, 64, 3))\n",
        "x = base_model(inputs)\n",
        "x = layers.GlobalAveragePooling2D()(x)\n",
        "x = layers.Dense(128, activation=\"relu\")(x)\n",
        "x = layers.Dropout(0.5)(x)\n",
        "outputs = layers.Dense(1, activation=\"sigmoid\")(x)"
      ],
      "id": "eff42344",
      "execution_count": 40,
      "outputs": []
    },
    {
      "cell_type": "code",
      "metadata": {
        "id": "b50265af"
      },
      "source": [
        "model = Model(inputs, outputs)"
      ],
      "id": "b50265af",
      "execution_count": 41,
      "outputs": []
    },
    {
      "cell_type": "code",
      "metadata": {
        "colab": {
          "base_uri": "https://localhost:8080/"
        },
        "id": "5328d9c1",
        "outputId": "107a7cf4-e171-430c-e006-c220e4df0ed9"
      },
      "source": [
        "model.summary()"
      ],
      "id": "5328d9c1",
      "execution_count": 42,
      "outputs": [
        {
          "output_type": "stream",
          "name": "stdout",
          "text": [
            "Model: \"model_1\"\n",
            "_________________________________________________________________\n",
            "Layer (type)                 Output Shape              Param #   \n",
            "=================================================================\n",
            "input_4 (InputLayer)         [(None, 64, 64, 3)]       0         \n",
            "_________________________________________________________________\n",
            "vgg16 (Functional)           (None, 2, 2, 512)         14714688  \n",
            "_________________________________________________________________\n",
            "global_average_pooling2d_1 ( (None, 512)               0         \n",
            "_________________________________________________________________\n",
            "dense_2 (Dense)              (None, 128)               65664     \n",
            "_________________________________________________________________\n",
            "dropout_1 (Dropout)          (None, 128)               0         \n",
            "_________________________________________________________________\n",
            "dense_3 (Dense)              (None, 1)                 129       \n",
            "=================================================================\n",
            "Total params: 14,780,481\n",
            "Trainable params: 14,780,481\n",
            "Non-trainable params: 0\n",
            "_________________________________________________________________\n"
          ]
        }
      ]
    },
    {
      "cell_type": "code",
      "metadata": {
        "id": "4a0414b1"
      },
      "source": [
        "model.compile(\n",
        "    optimizer=\"adam\",\n",
        "    loss=BinaryCrossentropy(),\n",
        "    metrics=[\"accuracy\"])"
      ],
      "id": "4a0414b1",
      "execution_count": 43,
      "outputs": []
    },
    {
      "cell_type": "code",
      "metadata": {
        "id": "1ac08bde"
      },
      "source": [
        "modelcheckpoint = ModelCheckpoint(\n",
        "    \"tmp\",\n",
        "    save_best_only=True)\n",
        "\n",
        "earlystopping = EarlyStopping(\n",
        "    monitor=\"val_loss\",\n",
        "    patience=5,\n",
        "    restore_best_weights=True)"
      ],
      "id": "1ac08bde",
      "execution_count": 44,
      "outputs": []
    },
    {
      "cell_type": "code",
      "metadata": {
        "id": "b03acc03"
      },
      "source": [
        "callbacks = [earlystopping, modelcheckpoint]"
      ],
      "id": "b03acc03",
      "execution_count": 45,
      "outputs": []
    },
    {
      "cell_type": "code",
      "metadata": {
        "colab": {
          "base_uri": "https://localhost:8080/"
        },
        "id": "e84cb93b",
        "outputId": "a5e049a4-587e-4863-a03c-90dcb2562b37"
      },
      "source": [
        "try:\n",
        "    model.load_weights(\"tmp\")\n",
        "    print(\"Loading weight from last checkpoint\")\n",
        "except Exception as e:\n",
        "    print(\"no weight found. Training from scratch\")"
      ],
      "id": "e84cb93b",
      "execution_count": 46,
      "outputs": [
        {
          "output_type": "stream",
          "name": "stdout",
          "text": [
            "Loading weight from last checkpoint\n"
          ]
        }
      ]
    },
    {
      "cell_type": "code",
      "metadata": {
        "colab": {
          "base_uri": "https://localhost:8080/"
        },
        "id": "b90a64e7",
        "outputId": "d920dd72-59e2-423b-8627-86bbf145c2f3"
      },
      "source": [
        "history = model.fit(\n",
        "    train_data,\n",
        "    epochs=15,\n",
        "    batch_size=batch_size,\n",
        "    steps_per_epoch=len(train_sample)//batch_size,\n",
        "    validation_data=val_data,\n",
        "    validation_steps=len(val_sample)//batch_size,\n",
        "    callbacks=callbacks)"
      ],
      "id": "b90a64e7",
      "execution_count": 47,
      "outputs": [
        {
          "output_type": "stream",
          "name": "stdout",
          "text": [
            "Epoch 1/15\n",
            "94/94 [==============================] - 16s 156ms/step - loss: 0.0419 - accuracy: 0.9883 - val_loss: 0.0085 - val_accuracy: 0.9983\n",
            "INFO:tensorflow:Assets written to: tmp/assets\n",
            "Epoch 2/15\n",
            "94/94 [==============================] - 14s 153ms/step - loss: 0.0227 - accuracy: 0.9960 - val_loss: 0.0568 - val_accuracy: 0.9800\n",
            "Epoch 3/15\n",
            "94/94 [==============================] - 14s 153ms/step - loss: 0.0259 - accuracy: 0.9913 - val_loss: 0.0095 - val_accuracy: 0.9957\n",
            "Epoch 4/15\n",
            "94/94 [==============================] - 14s 154ms/step - loss: 0.0373 - accuracy: 0.9894 - val_loss: 0.0195 - val_accuracy: 0.9930\n",
            "Epoch 5/15\n",
            "94/94 [==============================] - 14s 154ms/step - loss: 0.0194 - accuracy: 0.9940 - val_loss: 0.0088 - val_accuracy: 0.9948\n",
            "Epoch 6/15\n",
            "94/94 [==============================] - 14s 154ms/step - loss: 0.0155 - accuracy: 0.9964 - val_loss: 0.0102 - val_accuracy: 0.9965\n"
          ]
        }
      ]
    },
    {
      "cell_type": "code",
      "metadata": {
        "colab": {
          "base_uri": "https://localhost:8080/",
          "height": 513
        },
        "id": "8952ebf3",
        "outputId": "c57b65ea-6a11-4385-8fe3-03a86e67bd41"
      },
      "source": [
        "his = history.history\n",
        "\n",
        "plt.plot(his[\"accuracy\"])\n",
        "plt.plot(his[\"val_accuracy\"])\n",
        "plt.legend([\"Accuracy\", \"Val Accuracy\"])\n",
        "plt.show()\n",
        "\n",
        "plt.plot(his[\"loss\"])\n",
        "plt.plot(his[\"val_loss\"])\n",
        "plt.legend([\"Loss\", \"Val Loss\"])\n",
        "plt.show()"
      ],
      "id": "8952ebf3",
      "execution_count": 53,
      "outputs": [
        {
          "output_type": "display_data",
          "data": {
            "image/png": "[encoded data removed]",
            "text/plain": [
              "<Figure size 432x288 with 1 Axes>"
            ]
          },
          "metadata": {
            "needs_background": "light"
          }
        },
        {
          "output_type": "display_data",
          "data": {
            "image/png": "[encoded data removed]",
            "text/plain": [
              "<Figure size 432x288 with 1 Axes>"
            ]
          },
          "metadata": {
            "needs_background": "light"
          }
        }
      ]
    },
    {
      "cell_type": "code",
      "metadata": {
        "id": "d1dd83f5"
      },
      "source": [
        "test_datagen = ImageDataGenerator(preprocessing_function=preprocess_input)"
      ],
      "id": "d1dd83f5",
      "execution_count": 54,
      "outputs": []
    },
    {
      "cell_type": "code",
      "metadata": {
        "colab": {
          "base_uri": "https://localhost:8080/"
        },
        "id": "b4e1bf8a",
        "outputId": "840f927a-3163-462b-8b45-d7dfd439b4ae"
      },
      "source": [
        "test_data = test_datagen.flow_from_directory(\n",
        "    \"test2\",\n",
        "    batch_size=batch_size,\n",
        "    target_size=img_size,\n",
        "    class_mode=\"binary\")"
      ],
      "id": "b4e1bf8a",
      "execution_count": 55,
      "outputs": [
        {
          "output_type": "stream",
          "name": "stdout",
          "text": [
            "Found 98 images belonging to 2 classes.\n"
          ]
        }
      ]
    },
    {
      "cell_type": "code",
      "metadata": {
        "colab": {
          "base_uri": "https://localhost:8080/"
        },
        "id": "53c102e1",
        "outputId": "2ac484d0-10e4-4751-9b76-2918099869d7"
      },
      "source": [
        "loss, accuracy = model.evaluate(test_data)"
      ],
      "id": "53c102e1",
      "execution_count": 56,
      "outputs": [
        {
          "output_type": "stream",
          "name": "stdout",
          "text": [
            "2/2 [==============================] - 0s 55ms/step - loss: 0.7484 - accuracy: 0.9184\n"
          ]
        }
      ]
    },
    {
      "cell_type": "code",
      "metadata": {
        "colab": {
          "base_uri": "https://localhost:8080/"
        },
        "id": "8134d4b4",
        "outputId": "a2afc194-28ec-4768-f6d4-70bc67963c34"
      },
      "source": [
        "print(\"Loss on Test Data\", loss)\n",
        "print(\"Accuracy on Test Data\", accuracy)"
      ],
      "id": "8134d4b4",
      "execution_count": 57,
      "outputs": [
        {
          "output_type": "stream",
          "name": "stdout",
          "text": [
            "Loss on Test Data 0.7483601570129395\n",
            "Accuracy on Test Data 0.918367326259613\n"
          ]
        }
      ]
    },
    {
      "cell_type": "code",
      "metadata": {
        "id": "9967c246"
      },
      "source": [
        "# Creating Json File to submit the solution\n",
        "final_output = {}\n",
        "for image_name in os.listdir(\"test\"):\n",
        "    img_ = image.load_img(os.path.join(\"test\", image_name), target_size=(64, 64), color_mode=\"rgb\")\n",
        "    img_arr = image.img_to_array(img_)\n",
        "    img_arr = preprocess_input(img_arr)\n",
        "    img_batch = np.array([img_arr])\n",
        "    output = model.predict(img_batch)\n",
        "    if output > 0.5:\n",
        "        final_output[image_name] = 1\n",
        "    else:\n",
        "        final_output[image_name] = 0"
      ],
      "id": "9967c246",
      "execution_count": null,
      "outputs": []
    },
    {
      "cell_type": "code",
      "metadata": {
        "id": "014dd312"
      },
      "source": [
        "with open(\"result.json\", \"w\") as file:\n",
        "    json.dump(final_output, file)"
      ],
      "id": "014dd312",
      "execution_count": null,
      "outputs": []
    },
    {
      "cell_type": "code",
      "metadata": {
        "id": "w26D9i0Ywx6K",
        "outputId": "3d47b809-28de-42cf-eae5-61de3021b479",
        "colab": {
          "base_uri": "https://localhost:8080/"
        }
      },
      "source": [
        "!zip -r tmp.zip tmp"
      ],
      "id": "w26D9i0Ywx6K",
      "execution_count": 60,
      "outputs": [
        {
          "output_type": "stream",
          "name": "stdout",
          "text": [
            "  adding: tmp/ (stored 0%)\n",
            "  adding: tmp/assets/ (stored 0%)\n",
            "  adding: tmp/saved_model.pb (deflated 90%)\n",
            "  adding: tmp/keras_metadata.pb (deflated 96%)\n",
            "  adding: tmp/variables/ (stored 0%)\n",
            "  adding: tmp/variables/variables.data-00000-of-00001 (deflated 15%)\n",
            "  adding: tmp/variables/variables.index (deflated 74%)\n"
          ]
        }
      ]
    },
    {
      "cell_type": "code",
      "metadata": {
        "id": "77EemN9PxHx0",
        "outputId": "d8976a66-a6eb-4f99-9187-ae8082a881ad",
        "colab": {
          "base_uri": "https://localhost:8080/",
          "height": 34
        }
      },
      "source": [
        "from google.colab import files\n",
        "files.download(\"tmp.zip\")"
      ],
      "id": "77EemN9PxHx0",
      "execution_count": 61,
      "outputs": [
        {
          "output_type": "display_data",
          "data": {
            "application/javascript": [
              "\n",
              "    async function download(id, filename, size) {\n",
              "      if (!google.colab.kernel.accessAllowed) {\n",
              "        return;\n",
              "      }\n",
              "      const div = document.createElement('div');\n",
              "      const label = document.createElement('label');\n",
              "      label.textContent = `Downloading \"${filename}\": `;\n",
              "      div.appendChild(label);\n",
              "      const progress = document.createElement('progress');\n",
              "      progress.max = size;\n",
              "      div.appendChild(progress);\n",
              "      document.body.appendChild(div);\n",
              "\n",
              "      const buffers = [];\n",
              "      let downloaded = 0;\n",
              "\n",
              "      const channel = await google.colab.kernel.comms.open(id);\n",
              "      // Send a message to notify the kernel that we're ready.\n",
              "      channel.send({})\n",
              "\n",
              "      for await (const message of channel.messages) {\n",
              "        // Send a message to notify the kernel that we're ready.\n",
              "        channel.send({})\n",
              "        if (message.buffers) {\n",
              "          for (const buffer of message.buffers) {\n",
              "            buffers.push(buffer);\n",
              "            downloaded += buffer.byteLength;\n",
              "            progress.value = downloaded;\n",
              "          }\n",
              "        }\n",
              "      }\n",
              "      const blob = new Blob(buffers, {type: 'application/binary'});\n",
              "      const a = document.createElement('a');\n",
              "      a.href = window.URL.createObjectURL(blob);\n",
              "      a.download = filename;\n",
              "      div.appendChild(a);\n",
              "      a.click();\n",
              "      div.remove();\n",
              "    }\n",
              "  "
            ],
            "text/plain": [
              "<IPython.core.display.Javascript object>"
            ]
          },
          "metadata": {}
        },
        {
          "output_type": "display_data",
          "data": {
            "application/javascript": [
              "download(\"download_bb4d6d93-6cda-47dd-b568-f07140d53195\", \"tmp.zip\", 151097213)"
            ],
            "text/plain": [
              "<IPython.core.display.Javascript object>"
            ]
          },
          "metadata": {}
        }
      ]
    },
    {
      "cell_type": "code",
      "metadata": {
        "id": "m-lK0QoRxLlf"
      },
      "source": [
        ""
      ],
      "id": "m-lK0QoRxLlf",
      "execution_count": null,
      "outputs": []
    }
  ]
}