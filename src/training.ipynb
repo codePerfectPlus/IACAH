{
 "cells": [
  {
   "cell_type": "markdown",
   "id": "1faa7475",
   "metadata": {
    "id": "1faa7475"
   },
   "source": [
    "# IACAH (India Academia Connect AI Hackathon)\n",
    "\n",
    "Date - October 4-13, 2021\n",
    "\n",
    "Artificial intelligence will be an enormous part of the future workforce. It’s expected to generate 2 million net job gains versus losses by 2025. India Academia Connect AI Hackathon will help the participants from leading research institutions with the opportunity to learn and implement the latest AI technology, preparing them for a future AI-powered economy, with a large research and developer base.\n",
    "\n",
    "Data Download Link:- [GDrive Link](https://drive.google.com/drive/folders/1O8TT0s4zMyiI6zR-biVRoiLiAUy-W1H0?usp=sharing)"
   ]
  },
  {
   "cell_type": "markdown",
   "id": "ea83c2bf",
   "metadata": {
    "id": "ea83c2bf"
   },
   "source": [
    "#### Primary Goal:- To classify the Images into Background and Text\n",
    "    To Classify the Images into two categories(Background or Text) using Tensorflow and Keras.\n",
    "\n",
    "#### Solution:- \n",
    "    It's a Binary Class classification problem. It can be solved using CNN classifier.\n",
    "    Train the Model using transfer learning. We used VGG16 as feature extractor and used Dropout to avoid overfitting. we used some ImageDataAugmentation technique to make model more robust and better. we are using modelcheckpoint and earlystopping callbacks function to get the best model possible\n",
    "\n",
    "#### Result:- \n",
    "    we evalute the model on test_data(unseen data) using evlaute function and got the approx 92% accuracy. The Accuracy may be improve using new model like Resnet or Imagenet. Although Vgg16 is also works as feature extractor."
   ]
  },
  {
   "cell_type": "code",
   "execution_count": 2,
   "id": "4a53e261",
   "metadata": {
    "id": "4a53e261"
   },
   "outputs": [],
   "source": [
    "import os\n",
    "import json\n",
    "import numpy as np\n",
    "import pandas as pd\n",
    "from PIL import Image\n",
    "from matplotlib import pyplot as plt\n",
    "import tensorflow as tf\n",
    "from sklearn.utils import shuffle\n",
    "from sklearn.model_selection import train_test_split\n",
    "from tensorflow.keras.models import Model\n",
    "from tensorflow.keras import layers\n",
    "from tensorflow.keras.preprocessing.image import ImageDataGenerator\n",
    "from tensorflow.keras.applications import vgg16\n",
    "from tensorflow.keras.applications.vgg16 import preprocess_input\n",
    "from tensorflow.keras.losses import BinaryCrossentropy\n",
    "from tensorflow.keras.callbacks import ModelCheckpoint, EarlyStopping\n",
    "from tensorflow.keras.preprocessing import image"
   ]
  },
  {
   "cell_type": "code",
   "execution_count": 3,
   "id": "9bb143c3",
   "metadata": {
    "id": "9bb143c3"
   },
   "outputs": [],
   "source": [
    "train_dir = \"training\" \n",
    "test_dir = \"test\"\n",
    "batch_size = 50\n",
    "img_shape = (64, 64, 3)\n",
    "num_class = len(os.listdir(train_dir))\n",
    "idx_to_name = os.listdir(train_dir)\n",
    "name_to_idx = dict([(v, k) for k, v in enumerate(idx_to_name)])"
   ]
  },
  {
   "cell_type": "code",
   "execution_count": 4,
   "id": "b9661b3c",
   "metadata": {
    "id": "b9661b3c"
   },
   "outputs": [],
   "source": [
    "def data_to_df(data_dir, subset=None):\n",
    "    ''' Creating DataFrame for loading Filename and Label\n",
    "    \n",
    "    Args:\n",
    "        Data_dir: \n",
    "            Data_dir Path\n",
    "        Subset: \n",
    "            - train- for spliting data in train and val\n",
    "    \n",
    "     '''\n",
    "    df = pd.DataFrame(columns=['filenames', 'labels'])\n",
    "\n",
    "    filenames = []\n",
    "    labels = []\n",
    "    for dataset in os.listdir(data_dir):\n",
    "        img_list = os.listdir(os.path.join(data_dir, dataset))\n",
    "\n",
    "        label = name_to_idx[dataset]\n",
    "\n",
    "        for image in img_list:\n",
    "            filenames.append(os.path.join(data_dir, dataset, image))\n",
    "            labels.append(label)\n",
    "\n",
    "    df[\"filenames\"] = filenames\n",
    "    df[\"labels\"] = labels\n",
    "    \n",
    "    if subset == \"train\":\n",
    "        train_df, val_df = train_test_split(df, train_size=0.9, shuffle=True)    \n",
    "        return train_df, val_df\n",
    "    return df"
   ]
  },
  {
   "cell_type": "code",
   "execution_count": 5,
   "id": "fc896050",
   "metadata": {
    "id": "fc896050"
   },
   "outputs": [],
   "source": [
    "train_df, val_df = data_to_df(train_dir, subset=\"train\")"
   ]
  },
  {
   "cell_type": "code",
   "execution_count": 6,
   "id": "IfMfhKfss4k0",
   "metadata": {
    "id": "IfMfhKfss4k0"
   },
   "outputs": [],
   "source": [
    "class CustomDataGenerator:\n",
    "    ''' Custom DataGenerator to load img \n",
    "    \n",
    "    Arguments:\n",
    "        data_frame = pandas data frame in filenames and labels format\n",
    "        batch_size = divide data in batches\n",
    "        shuffle = shuffle data before loading\n",
    "        img_shape = image shape in (h, w, d) format\n",
    "        augmentation = data augmentation to make model rebust to overfitting\n",
    "    \n",
    "    Output:\n",
    "        Img: numpy array of image\n",
    "        label : output label for image\n",
    "    '''\n",
    "    def __init__(self, data_frame, batch_size=10, shuffle_data=True, img_shape=None, augmentation=True):\n",
    "        self.data_frame = data_frame\n",
    "        self.train_len = self.data_frame.shape[0]\n",
    "        self.batch_size = batch_size\n",
    "        self.shuffle_data = shuffle_data\n",
    "        self.img_shape = img_shape\n",
    "    \n",
    "    def __len__(self):\n",
    "        return len(self.train_len/self.batch_size)\n",
    "\n",
    "    def preprocessing(self, filename, label):\n",
    "        \"\"\" converting filenames into numpy array and applying image preprocessing \"\"\"\n",
    "        img = tf.keras.preprocessing.image.load_img(filename)\n",
    "        img = tf.keras.preprocessing.image.img_to_array(img)\n",
    "        img = np.resize(img, self.img_shape)\n",
    "        img = preprocess_input(img)\n",
    "        img = tf.keras.preprocessing.image.random_shift(img, 0.2, 0.3)\n",
    "        return img, label\n",
    "\n",
    "    def generate(self):\n",
    "        ''' Generator function to yield img and label '''\n",
    "        num_samples = self.data_frame.shape[0]\n",
    "        while True:\n",
    "            if self.shuffle_data:\n",
    "                self.data_frame = shuffle(self.data_frame)\n",
    "\n",
    "            for offset in range(0, num_samples, self.batch_size):\n",
    "                batch_samples = self.data_frame[offset:offset+self.batch_size]\n",
    "                \n",
    "                filenames = batch_samples[\"filenames\"]\n",
    "                labels = batch_samples[\"labels\"]\n",
    "                X_train = []\n",
    "                y_train = []\n",
    "                \n",
    "                for filename, label in zip(filenames, labels):\n",
    "                    img, label = self.preprocessing(filename, label)\n",
    "\n",
    "                    X_train.append(img)\n",
    "                    y_train.append(label)\n",
    "\n",
    "                X_train = np.array(X_train)\n",
    "                y_train = np.array(y_train)\n",
    "\n",
    "                yield X_train, y_train"
   ]
  },
  {
   "cell_type": "code",
   "execution_count": 7,
   "id": "a70c1dd6",
   "metadata": {},
   "outputs": [],
   "source": [
    "# creating train and validation data\n",
    "train_data = CustomDataGenerator(train_df, batch_size=10, shuffle_data=True, img_shape=img_shape).generate()\n",
    "val_data = CustomDataGenerator(val_df, batch_size=10, img_shape=img_shape).generate()"
   ]
  },
  {
   "cell_type": "code",
   "execution_count": 8,
   "id": "6fb5b074",
   "metadata": {},
   "outputs": [
    {
     "name": "stdout",
     "output_type": "stream",
     "text": [
      "(10, 64, 64, 3)\n"
     ]
    }
   ],
   "source": [
    "x, y = next(train_data)\n",
    "print(x.shape)"
   ]
  },
  {
   "cell_type": "code",
   "execution_count": 9,
   "id": "bc075e73",
   "metadata": {
    "id": "bc075e73"
   },
   "outputs": [],
   "source": [
    "base_model = vgg16.VGG16(weights=\"imagenet\", include_top=False, input_shape=(64, 64, 3))\n",
    "base_model.trainable= True"
   ]
  },
  {
   "cell_type": "code",
   "execution_count": 10,
   "id": "eff42344",
   "metadata": {
    "id": "eff42344"
   },
   "outputs": [],
   "source": [
    "inputs = layers.Input(shape=(64, 64, 3))\n",
    "x = base_model(inputs)\n",
    "x = layers.GlobalAveragePooling2D()(x)\n",
    "x = layers.Dense(128, activation=\"relu\")(x)\n",
    "x = layers.Dropout(0.5)(x)\n",
    "outputs = layers.Dense(1, activation=\"sigmoid\")(x)"
   ]
  },
  {
   "cell_type": "code",
   "execution_count": 11,
   "id": "b50265af",
   "metadata": {
    "id": "b50265af"
   },
   "outputs": [],
   "source": [
    "model = Model(inputs, outputs, name=\"VGG16\")"
   ]
  },
  {
   "cell_type": "code",
   "execution_count": 12,
   "id": "5328d9c1",
   "metadata": {
    "colab": {
     "base_uri": "https://localhost:8080/"
    },
    "id": "5328d9c1",
    "outputId": "44d78da2-edf3-4859-d073-ad2373662c85"
   },
   "outputs": [
    {
     "name": "stdout",
     "output_type": "stream",
     "text": [
      "Model: \"VGG16\"\n",
      "_________________________________________________________________\n",
      "Layer (type)                 Output Shape              Param #   \n",
      "=================================================================\n",
      "input_2 (InputLayer)         [(None, 64, 64, 3)]       0         \n",
      "_________________________________________________________________\n",
      "vgg16 (Functional)           (None, 2, 2, 512)         14714688  \n",
      "_________________________________________________________________\n",
      "global_average_pooling2d (Gl (None, 512)               0         \n",
      "_________________________________________________________________\n",
      "dense (Dense)                (None, 128)               65664     \n",
      "_________________________________________________________________\n",
      "dropout (Dropout)            (None, 128)               0         \n",
      "_________________________________________________________________\n",
      "dense_1 (Dense)              (None, 1)                 129       \n",
      "=================================================================\n",
      "Total params: 14,780,481\n",
      "Trainable params: 14,780,481\n",
      "Non-trainable params: 0\n",
      "_________________________________________________________________\n"
     ]
    }
   ],
   "source": [
    "model.summary()"
   ]
  },
  {
   "cell_type": "code",
   "execution_count": 13,
   "id": "4a0414b1",
   "metadata": {
    "id": "4a0414b1"
   },
   "outputs": [],
   "source": [
    "model.compile(\n",
    "    optimizer=\"adam\",\n",
    "    loss=BinaryCrossentropy(),\n",
    "    metrics=[\"accuracy\"])"
   ]
  },
  {
   "cell_type": "code",
   "execution_count": 14,
   "id": "1ac08bde",
   "metadata": {
    "id": "1ac08bde"
   },
   "outputs": [],
   "source": [
    "modelcheckpoint = ModelCheckpoint(\n",
    "    \"tmp\",\n",
    "    save_best_only=True)\n",
    "\n",
    "earlystopping = EarlyStopping(\n",
    "    monitor=\"val_loss\",\n",
    "    patience=5,\n",
    "    restore_best_weights=True)"
   ]
  },
  {
   "cell_type": "code",
   "execution_count": 15,
   "id": "b03acc03",
   "metadata": {
    "id": "b03acc03"
   },
   "outputs": [],
   "source": [
    "callbacks = [earlystopping, modelcheckpoint]"
   ]
  },
  {
   "cell_type": "code",
   "execution_count": 16,
   "id": "e84cb93b",
   "metadata": {
    "colab": {
     "base_uri": "https://localhost:8080/"
    },
    "id": "e84cb93b",
    "outputId": "4df6ab84-f736-43bd-8c6a-076c511da869"
   },
   "outputs": [
    {
     "name": "stdout",
     "output_type": "stream",
     "text": [
      "WARNING:tensorflow:Inconsistent references when loading the checkpoint into this object graph. Either the Trackable object references in the Python program have changed in an incompatible way, or the checkpoint was generated in an incompatible program.\n",
      "\n",
      "Two checkpoint references resolved to different objects (<keras.layers.core.Dense object at 0x000001F3C81F96A0> and <keras.layers.core.Dropout object at 0x000001F3C81F9EB0>).\n",
      "Loading weight from last checkpoint\n"
     ]
    }
   ],
   "source": [
    "try:\n",
    "    model.load_weights(\"tmp\")\n",
    "    print(\"Loading weight from last checkpoint\")\n",
    "except Exception as e:\n",
    "    print(\"no weight found. Training from scratch\")"
   ]
  },
  {
   "cell_type": "code",
   "execution_count": 22,
   "id": "bf9f2f4c",
   "metadata": {},
   "outputs": [
    {
     "data": {
      "text/plain": [
       "5287"
      ]
     },
     "execution_count": 22,
     "metadata": {},
     "output_type": "execute_result"
    }
   ],
   "source": [
    "len(train_df)"
   ]
  },
  {
   "cell_type": "code",
   "execution_count": null,
   "id": "b90a64e7",
   "metadata": {
    "colab": {
     "base_uri": "https://localhost:8080/"
    },
    "id": "b90a64e7",
    "outputId": "51e8336a-67a7-4e08-9960-e143fa2367cb"
   },
   "outputs": [
    {
     "name": "stdout",
     "output_type": "stream",
     "text": [
      "Epoch 1/15\n",
      "105/105 [==============================] - ETA: 0s - loss: 0.8070 - accuracy: 0.7181"
     ]
    }
   ],
   "source": [
    "history = model.fit(\n",
    "    train_data,\n",
    "    epochs=15,\n",
    "    batch_size=batch_size,\n",
    "    steps_per_epoch=len(train_df)//batch_size,\n",
    "    validation_data=val_data,\n",
    "    callbacks=callbacks)"
   ]
  },
  {
   "cell_type": "code",
   "execution_count": null,
   "id": "8952ebf3",
   "metadata": {
    "colab": {
     "base_uri": "https://localhost:8080/",
     "height": 513
    },
    "id": "8952ebf3",
    "outputId": "3d07da7f-0f48-45fd-8d37-94db0d737eab"
   },
   "outputs": [],
   "source": [
    "his = history.history\n",
    "\n",
    "plt.plot(his[\"accuracy\"])\n",
    "plt.plot(his[\"val_accuracy\"])\n",
    "plt.legend([\"Accuracy\", \"Val Accuracy\"])\n",
    "plt.show()\n",
    "\n",
    "plt.plot(his[\"loss\"])\n",
    "plt.plot(his[\"val_loss\"])\n",
    "plt.legend([\"Loss\", \"Val Loss\"])\n",
    "plt.show()"
   ]
  },
  {
   "cell_type": "code",
   "execution_count": null,
   "id": "d1dd83f5",
   "metadata": {
    "id": "d1dd83f5"
   },
   "outputs": [],
   "source": [
    "test_datagen = ImageDataGenerator(preprocessing_function=preprocess_input)"
   ]
  },
  {
   "cell_type": "code",
   "execution_count": 123,
   "id": "b4e1bf8a",
   "metadata": {
    "colab": {
     "base_uri": "https://localhost:8080/"
    },
    "id": "b4e1bf8a",
    "outputId": "36dd6bff-a8f4-4a9c-d647-ac4e4ff73f5a"
   },
   "outputs": [
    {
     "name": "stdout",
     "output_type": "stream",
     "text": [
      "Found 98 images belonging to 2 classes.\n"
     ]
    }
   ],
   "source": [
    "test_data = test_datagen.flow_from_directory(\n",
    "    \"test2\",\n",
    "    batch_size=batch_size,\n",
    "    target_size=img_size,\n",
    "    class_mode=\"binary\")"
   ]
  },
  {
   "cell_type": "code",
   "execution_count": 124,
   "id": "53c102e1",
   "metadata": {
    "colab": {
     "base_uri": "https://localhost:8080/"
    },
    "id": "53c102e1",
    "outputId": "dd20cb2c-f2be-4f0a-dd3c-09b6b8fa3d10"
   },
   "outputs": [
    {
     "name": "stdout",
     "output_type": "stream",
     "text": [
      "2/2 [==============================] - 0s 60ms/step - loss: 1.2595 - accuracy: 0.8878\n"
     ]
    }
   ],
   "source": [
    "loss, accuracy = model.evaluate(test_data)"
   ]
  },
  {
   "cell_type": "code",
   "execution_count": 125,
   "id": "8134d4b4",
   "metadata": {
    "colab": {
     "base_uri": "https://localhost:8080/"
    },
    "id": "8134d4b4",
    "outputId": "2881a386-64c5-45c5-8f28-af099e62826f"
   },
   "outputs": [
    {
     "name": "stdout",
     "output_type": "stream",
     "text": [
      "Loss on Test Data 1.259535789489746\n",
      "Accuracy on Test Data 0.8877550959587097\n"
     ]
    }
   ],
   "source": [
    "print(\"Loss on Test Data\", loss)\n",
    "print(\"Accuracy on Test Data\", accuracy)"
   ]
  },
  {
   "cell_type": "code",
   "execution_count": 127,
   "id": "9967c246",
   "metadata": {
    "colab": {
     "base_uri": "https://localhost:8080/"
    },
    "id": "9967c246",
    "outputId": "9a2c71c5-8f58-4fc3-ac9c-8ea3d6414128"
   },
   "outputs": [
    {
     "name": "stdout",
     "output_type": "stream",
     "text": [
      "WARNING:tensorflow:Unresolved object in checkpoint: (root).regularization_losses\n",
      "WARNING:tensorflow:Unresolved object in checkpoint: (root).variables\n",
      "WARNING:tensorflow:Unresolved object in checkpoint: (root).trainable_variables\n",
      "WARNING:tensorflow:Unresolved object in checkpoint: (root).keras_api\n",
      "WARNING:tensorflow:Unresolved object in checkpoint: (root).signatures\n",
      "WARNING:tensorflow:Unresolved object in checkpoint: (root).layer_with_weights-0.regularization_losses\n",
      "WARNING:tensorflow:Unresolved object in checkpoint: (root).layer_with_weights-0.variables\n",
      "WARNING:tensorflow:Unresolved object in checkpoint: (root).layer_with_weights-0.trainable_variables\n",
      "WARNING:tensorflow:Unresolved object in checkpoint: (root).layer_with_weights-0.keras_api\n",
      "WARNING:tensorflow:Unresolved object in checkpoint: (root).layer-2.regularization_losses\n",
      "WARNING:tensorflow:Unresolved object in checkpoint: (root).layer-2.trainable_variables\n",
      "WARNING:tensorflow:Unresolved object in checkpoint: (root).layer-2.variables\n",
      "WARNING:tensorflow:Unresolved object in checkpoint: (root).layer-2.keras_api\n",
      "WARNING:tensorflow:Unresolved object in checkpoint: (root).layer_with_weights-1.regularization_losses\n",
      "WARNING:tensorflow:Unresolved object in checkpoint: (root).layer_with_weights-1.trainable_variables\n",
      "WARNING:tensorflow:Unresolved object in checkpoint: (root).layer_with_weights-1.variables\n",
      "WARNING:tensorflow:Unresolved object in checkpoint: (root).layer_with_weights-1.keras_api\n",
      "WARNING:tensorflow:Unresolved object in checkpoint: (root).layer-4.regularization_losses\n",
      "WARNING:tensorflow:Unresolved object in checkpoint: (root).layer-4.trainable_variables\n",
      "WARNING:tensorflow:Unresolved object in checkpoint: (root).layer-4.variables\n",
      "WARNING:tensorflow:Unresolved object in checkpoint: (root).layer-4.keras_api\n",
      "WARNING:tensorflow:Unresolved object in checkpoint: (root).layer_with_weights-2.regularization_losses\n",
      "WARNING:tensorflow:Unresolved object in checkpoint: (root).layer_with_weights-2.trainable_variables\n",
      "WARNING:tensorflow:Unresolved object in checkpoint: (root).layer_with_weights-2.variables\n",
      "WARNING:tensorflow:Unresolved object in checkpoint: (root).layer_with_weights-2.keras_api\n",
      "WARNING:tensorflow:Unresolved object in checkpoint: (root).optimizer.iter\n",
      "WARNING:tensorflow:Unresolved object in checkpoint: (root).optimizer.beta_1\n",
      "WARNING:tensorflow:Unresolved object in checkpoint: (root).optimizer.beta_2\n",
      "WARNING:tensorflow:Unresolved object in checkpoint: (root).optimizer.decay\n",
      "WARNING:tensorflow:Unresolved object in checkpoint: (root).optimizer.learning_rate\n",
      "WARNING:tensorflow:Unresolved object in checkpoint: (root).keras_api.non_trainable_variables\n",
      "WARNING:tensorflow:Unresolved object in checkpoint: (root).keras_api.layers\n",
      "WARNING:tensorflow:Unresolved object in checkpoint: (root).keras_api.metrics\n",
      "WARNING:tensorflow:Unresolved object in checkpoint: (root).keras_api.layer_metrics\n",
      "WARNING:tensorflow:Unresolved object in checkpoint: (root).keras_api.layer_regularization_losses\n",
      "WARNING:tensorflow:Unresolved object in checkpoint: (root).layer_with_weights-0.layer_with_weights-0.regularization_losses\n",
      "WARNING:tensorflow:Unresolved object in checkpoint: (root).layer_with_weights-0.layer_with_weights-0.trainable_variables\n",
      "WARNING:tensorflow:Unresolved object in checkpoint: (root).layer_with_weights-0.layer_with_weights-0.variables\n",
      "WARNING:tensorflow:Unresolved object in checkpoint: (root).layer_with_weights-0.layer_with_weights-0.keras_api\n",
      "WARNING:tensorflow:Unresolved object in checkpoint: (root).layer_with_weights-0.layer_with_weights-1.regularization_losses\n",
      "WARNING:tensorflow:Unresolved object in checkpoint: (root).layer_with_weights-0.layer_with_weights-1.trainable_variables\n",
      "WARNING:tensorflow:Unresolved object in checkpoint: (root).layer_with_weights-0.layer_with_weights-1.variables\n",
      "WARNING:tensorflow:Unresolved object in checkpoint: (root).layer_with_weights-0.layer_with_weights-1.keras_api\n",
      "WARNING:tensorflow:Unresolved object in checkpoint: (root).layer_with_weights-0.layer-3.regularization_losses\n",
      "WARNING:tensorflow:Unresolved object in checkpoint: (root).layer_with_weights-0.layer-3.trainable_variables\n",
      "WARNING:tensorflow:Unresolved object in checkpoint: (root).layer_with_weights-0.layer-3.variables\n",
      "WARNING:tensorflow:Unresolved object in checkpoint: (root).layer_with_weights-0.layer-3.keras_api\n",
      "WARNING:tensorflow:Unresolved object in checkpoint: (root).layer_with_weights-0.layer_with_weights-2.regularization_losses\n",
      "WARNING:tensorflow:Unresolved object in checkpoint: (root).layer_with_weights-0.layer_with_weights-2.trainable_variables\n",
      "WARNING:tensorflow:Unresolved object in checkpoint: (root).layer_with_weights-0.layer_with_weights-2.variables\n",
      "WARNING:tensorflow:Unresolved object in checkpoint: (root).layer_with_weights-0.layer_with_weights-2.keras_api\n",
      "WARNING:tensorflow:Unresolved object in checkpoint: (root).layer_with_weights-0.layer_with_weights-3.regularization_losses\n",
      "WARNING:tensorflow:Unresolved object in checkpoint: (root).layer_with_weights-0.layer_with_weights-3.trainable_variables\n",
      "WARNING:tensorflow:Unresolved object in checkpoint: (root).layer_with_weights-0.layer_with_weights-3.variables\n",
      "WARNING:tensorflow:Unresolved object in checkpoint: (root).layer_with_weights-0.layer_with_weights-3.keras_api\n",
      "WARNING:tensorflow:Unresolved object in checkpoint: (root).layer_with_weights-0.layer-6.regularization_losses\n",
      "WARNING:tensorflow:Unresolved object in checkpoint: (root).layer_with_weights-0.layer-6.trainable_variables\n",
      "WARNING:tensorflow:Unresolved object in checkpoint: (root).layer_with_weights-0.layer-6.variables\n",
      "WARNING:tensorflow:Unresolved object in checkpoint: (root).layer_with_weights-0.layer-6.keras_api\n",
      "WARNING:tensorflow:Unresolved object in checkpoint: (root).layer_with_weights-0.layer_with_weights-4.regularization_losses\n",
      "WARNING:tensorflow:Unresolved object in checkpoint: (root).layer_with_weights-0.layer_with_weights-4.trainable_variables\n",
      "WARNING:tensorflow:Unresolved object in checkpoint: (root).layer_with_weights-0.layer_with_weights-4.variables\n",
      "WARNING:tensorflow:Unresolved object in checkpoint: (root).layer_with_weights-0.layer_with_weights-4.keras_api\n",
      "WARNING:tensorflow:Unresolved object in checkpoint: (root).layer_with_weights-0.layer_with_weights-5.regularization_losses\n",
      "WARNING:tensorflow:Unresolved object in checkpoint: (root).layer_with_weights-0.layer_with_weights-5.trainable_variables\n",
      "WARNING:tensorflow:Unresolved object in checkpoint: (root).layer_with_weights-0.layer_with_weights-5.variables\n",
      "WARNING:tensorflow:Unresolved object in checkpoint: (root).layer_with_weights-0.layer_with_weights-5.keras_api\n",
      "WARNING:tensorflow:Unresolved object in checkpoint: (root).layer_with_weights-0.layer_with_weights-6.regularization_losses\n",
      "WARNING:tensorflow:Unresolved object in checkpoint: (root).layer_with_weights-0.layer_with_weights-6.trainable_variables\n",
      "WARNING:tensorflow:Unresolved object in checkpoint: (root).layer_with_weights-0.layer_with_weights-6.variables\n",
      "WARNING:tensorflow:Unresolved object in checkpoint: (root).layer_with_weights-0.layer_with_weights-6.keras_api\n",
      "WARNING:tensorflow:Unresolved object in checkpoint: (root).layer_with_weights-0.layer-10.regularization_losses\n",
      "WARNING:tensorflow:Unresolved object in checkpoint: (root).layer_with_weights-0.layer-10.trainable_variables\n",
      "WARNING:tensorflow:Unresolved object in checkpoint: (root).layer_with_weights-0.layer-10.variables\n",
      "WARNING:tensorflow:Unresolved object in checkpoint: (root).layer_with_weights-0.layer-10.keras_api\n",
      "WARNING:tensorflow:Unresolved object in checkpoint: (root).layer_with_weights-0.layer_with_weights-7.regularization_losses\n",
      "WARNING:tensorflow:Unresolved object in checkpoint: (root).layer_with_weights-0.layer_with_weights-7.trainable_variables\n",
      "WARNING:tensorflow:Unresolved object in checkpoint: (root).layer_with_weights-0.layer_with_weights-7.variables\n",
      "WARNING:tensorflow:Unresolved object in checkpoint: (root).layer_with_weights-0.layer_with_weights-7.keras_api\n",
      "WARNING:tensorflow:Unresolved object in checkpoint: (root).layer_with_weights-0.layer_with_weights-8.regularization_losses\n",
      "WARNING:tensorflow:Unresolved object in checkpoint: (root).layer_with_weights-0.layer_with_weights-8.trainable_variables\n",
      "WARNING:tensorflow:Unresolved object in checkpoint: (root).layer_with_weights-0.layer_with_weights-8.variables\n",
      "WARNING:tensorflow:Unresolved object in checkpoint: (root).layer_with_weights-0.layer_with_weights-8.keras_api\n",
      "WARNING:tensorflow:Unresolved object in checkpoint: (root).layer_with_weights-0.layer_with_weights-9.regularization_losses\n",
      "WARNING:tensorflow:Unresolved object in checkpoint: (root).layer_with_weights-0.layer_with_weights-9.trainable_variables\n",
      "WARNING:tensorflow:Unresolved object in checkpoint: (root).layer_with_weights-0.layer_with_weights-9.variables\n",
      "WARNING:tensorflow:Unresolved object in checkpoint: (root).layer_with_weights-0.layer_with_weights-9.keras_api\n",
      "WARNING:tensorflow:Unresolved object in checkpoint: (root).layer_with_weights-0.layer-14.regularization_losses\n",
      "WARNING:tensorflow:Unresolved object in checkpoint: (root).layer_with_weights-0.layer-14.trainable_variables\n",
      "WARNING:tensorflow:Unresolved object in checkpoint: (root).layer_with_weights-0.layer-14.variables\n",
      "WARNING:tensorflow:Unresolved object in checkpoint: (root).layer_with_weights-0.layer-14.keras_api\n",
      "WARNING:tensorflow:Unresolved object in checkpoint: (root).layer_with_weights-0.layer_with_weights-10.regularization_losses\n",
      "WARNING:tensorflow:Unresolved object in checkpoint: (root).layer_with_weights-0.layer_with_weights-10.trainable_variables\n",
      "WARNING:tensorflow:Unresolved object in checkpoint: (root).layer_with_weights-0.layer_with_weights-10.variables\n",
      "WARNING:tensorflow:Unresolved object in checkpoint: (root).layer_with_weights-0.layer_with_weights-10.keras_api\n",
      "WARNING:tensorflow:Unresolved object in checkpoint: (root).layer_with_weights-0.layer_with_weights-11.regularization_losses\n",
      "WARNING:tensorflow:Unresolved object in checkpoint: (root).layer_with_weights-0.layer_with_weights-11.trainable_variables\n",
      "WARNING:tensorflow:Unresolved object in checkpoint: (root).layer_with_weights-0.layer_with_weights-11.variables\n",
      "WARNING:tensorflow:Unresolved object in checkpoint: (root).layer_with_weights-0.layer_with_weights-11.keras_api\n",
      "WARNING:tensorflow:Unresolved object in checkpoint: (root).layer_with_weights-0.layer_with_weights-12.regularization_losses\n",
      "WARNING:tensorflow:Unresolved object in checkpoint: (root).layer_with_weights-0.layer_with_weights-12.trainable_variables\n",
      "WARNING:tensorflow:Unresolved object in checkpoint: (root).layer_with_weights-0.layer_with_weights-12.variables\n",
      "WARNING:tensorflow:Unresolved object in checkpoint: (root).layer_with_weights-0.layer_with_weights-12.keras_api\n",
      "WARNING:tensorflow:Unresolved object in checkpoint: (root).layer_with_weights-0.layer-18.regularization_losses\n",
      "WARNING:tensorflow:Unresolved object in checkpoint: (root).layer_with_weights-0.layer-18.trainable_variables\n",
      "WARNING:tensorflow:Unresolved object in checkpoint: (root).layer_with_weights-0.layer-18.variables\n",
      "WARNING:tensorflow:Unresolved object in checkpoint: (root).layer_with_weights-0.layer-18.keras_api\n",
      "WARNING:tensorflow:Unresolved object in checkpoint: (root).layer_with_weights-0.keras_api.non_trainable_variables\n",
      "WARNING:tensorflow:Unresolved object in checkpoint: (root).layer_with_weights-0.keras_api.layers\n",
      "WARNING:tensorflow:Unresolved object in checkpoint: (root).layer_with_weights-0.keras_api.metrics\n",
      "WARNING:tensorflow:Unresolved object in checkpoint: (root).layer_with_weights-0.keras_api.layer_metrics\n",
      "WARNING:tensorflow:Unresolved object in checkpoint: (root).layer_with_weights-0.keras_api.layer_regularization_losses\n",
      "WARNING:tensorflow:Unresolved object in checkpoint: (root).layer-2.keras_api.non_trainable_variables\n",
      "WARNING:tensorflow:Unresolved object in checkpoint: (root).layer-2.keras_api.layers\n",
      "WARNING:tensorflow:Unresolved object in checkpoint: (root).layer-2.keras_api.metrics\n",
      "WARNING:tensorflow:Unresolved object in checkpoint: (root).layer-2.keras_api.layer_metrics\n",
      "WARNING:tensorflow:Unresolved object in checkpoint: (root).layer-2.keras_api.layer_regularization_losses\n",
      "WARNING:tensorflow:Unresolved object in checkpoint: (root).layer_with_weights-1.keras_api.non_trainable_variables\n",
      "WARNING:tensorflow:Unresolved object in checkpoint: (root).layer_with_weights-1.keras_api.layers\n",
      "WARNING:tensorflow:Unresolved object in checkpoint: (root).layer_with_weights-1.keras_api.metrics\n",
      "WARNING:tensorflow:Unresolved object in checkpoint: (root).layer_with_weights-1.keras_api.layer_metrics\n",
      "WARNING:tensorflow:Unresolved object in checkpoint: (root).layer_with_weights-1.keras_api.layer_regularization_losses\n",
      "WARNING:tensorflow:Unresolved object in checkpoint: (root).layer-4.keras_api.non_trainable_variables\n",
      "WARNING:tensorflow:Unresolved object in checkpoint: (root).layer-4.keras_api.layers\n",
      "WARNING:tensorflow:Unresolved object in checkpoint: (root).layer-4.keras_api.metrics\n",
      "WARNING:tensorflow:Unresolved object in checkpoint: (root).layer-4.keras_api.layer_metrics\n",
      "WARNING:tensorflow:Unresolved object in checkpoint: (root).layer-4.keras_api.layer_regularization_losses\n",
      "WARNING:tensorflow:Unresolved object in checkpoint: (root).layer_with_weights-2.keras_api.non_trainable_variables\n",
      "WARNING:tensorflow:Unresolved object in checkpoint: (root).layer_with_weights-2.keras_api.layers\n",
      "WARNING:tensorflow:Unresolved object in checkpoint: (root).layer_with_weights-2.keras_api.metrics\n",
      "WARNING:tensorflow:Unresolved object in checkpoint: (root).layer_with_weights-2.keras_api.layer_metrics\n",
      "WARNING:tensorflow:Unresolved object in checkpoint: (root).layer_with_weights-2.keras_api.layer_regularization_losses\n",
      "WARNING:tensorflow:Unresolved object in checkpoint: (root).keras_api.metrics.0\n",
      "WARNING:tensorflow:Unresolved object in checkpoint: (root).keras_api.metrics.1\n",
      "WARNING:tensorflow:Unresolved object in checkpoint: (root).layer_with_weights-0.layer_with_weights-0.keras_api.non_trainable_variables\n",
      "WARNING:tensorflow:Unresolved object in checkpoint: (root).layer_with_weights-0.layer_with_weights-0.keras_api.layers\n",
      "WARNING:tensorflow:Unresolved object in checkpoint: (root).layer_with_weights-0.layer_with_weights-0.keras_api.metrics\n",
      "WARNING:tensorflow:Unresolved object in checkpoint: (root).layer_with_weights-0.layer_with_weights-0.keras_api.layer_metrics\n",
      "WARNING:tensorflow:Unresolved object in checkpoint: (root).layer_with_weights-0.layer_with_weights-0.keras_api.layer_regularization_losses\n",
      "WARNING:tensorflow:Unresolved object in checkpoint: (root).layer_with_weights-0.layer_with_weights-1.keras_api.non_trainable_variables\n",
      "WARNING:tensorflow:Unresolved object in checkpoint: (root).layer_with_weights-0.layer_with_weights-1.keras_api.layers\n",
      "WARNING:tensorflow:Unresolved object in checkpoint: (root).layer_with_weights-0.layer_with_weights-1.keras_api.metrics\n",
      "WARNING:tensorflow:Unresolved object in checkpoint: (root).layer_with_weights-0.layer_with_weights-1.keras_api.layer_metrics\n",
      "WARNING:tensorflow:Unresolved object in checkpoint: (root).layer_with_weights-0.layer_with_weights-1.keras_api.layer_regularization_losses\n",
      "WARNING:tensorflow:Unresolved object in checkpoint: (root).layer_with_weights-0.layer-3.keras_api.non_trainable_variables\n",
      "WARNING:tensorflow:Unresolved object in checkpoint: (root).layer_with_weights-0.layer-3.keras_api.layers\n",
      "WARNING:tensorflow:Unresolved object in checkpoint: (root).layer_with_weights-0.layer-3.keras_api.metrics\n",
      "WARNING:tensorflow:Unresolved object in checkpoint: (root).layer_with_weights-0.layer-3.keras_api.layer_metrics\n",
      "WARNING:tensorflow:Unresolved object in checkpoint: (root).layer_with_weights-0.layer-3.keras_api.layer_regularization_losses\n",
      "WARNING:tensorflow:Unresolved object in checkpoint: (root).layer_with_weights-0.layer_with_weights-2.keras_api.non_trainable_variables\n",
      "WARNING:tensorflow:Unresolved object in checkpoint: (root).layer_with_weights-0.layer_with_weights-2.keras_api.layers\n",
      "WARNING:tensorflow:Unresolved object in checkpoint: (root).layer_with_weights-0.layer_with_weights-2.keras_api.metrics\n",
      "WARNING:tensorflow:Unresolved object in checkpoint: (root).layer_with_weights-0.layer_with_weights-2.keras_api.layer_metrics\n",
      "WARNING:tensorflow:Unresolved object in checkpoint: (root).layer_with_weights-0.layer_with_weights-2.keras_api.layer_regularization_losses\n",
      "WARNING:tensorflow:Unresolved object in checkpoint: (root).layer_with_weights-0.layer_with_weights-3.keras_api.non_trainable_variables\n",
      "WARNING:tensorflow:Unresolved object in checkpoint: (root).layer_with_weights-0.layer_with_weights-3.keras_api.layers\n",
      "WARNING:tensorflow:Unresolved object in checkpoint: (root).layer_with_weights-0.layer_with_weights-3.keras_api.metrics\n",
      "WARNING:tensorflow:Unresolved object in checkpoint: (root).layer_with_weights-0.layer_with_weights-3.keras_api.layer_metrics\n",
      "WARNING:tensorflow:Unresolved object in checkpoint: (root).layer_with_weights-0.layer_with_weights-3.keras_api.layer_regularization_losses\n",
      "WARNING:tensorflow:Unresolved object in checkpoint: (root).layer_with_weights-0.layer-6.keras_api.non_trainable_variables\n",
      "WARNING:tensorflow:Unresolved object in checkpoint: (root).layer_with_weights-0.layer-6.keras_api.layers\n",
      "WARNING:tensorflow:Unresolved object in checkpoint: (root).layer_with_weights-0.layer-6.keras_api.metrics\n",
      "WARNING:tensorflow:Unresolved object in checkpoint: (root).layer_with_weights-0.layer-6.keras_api.layer_metrics\n",
      "WARNING:tensorflow:Unresolved object in checkpoint: (root).layer_with_weights-0.layer-6.keras_api.layer_regularization_losses\n",
      "WARNING:tensorflow:Unresolved object in checkpoint: (root).layer_with_weights-0.layer_with_weights-4.keras_api.non_trainable_variables\n",
      "WARNING:tensorflow:Unresolved object in checkpoint: (root).layer_with_weights-0.layer_with_weights-4.keras_api.layers\n",
      "WARNING:tensorflow:Unresolved object in checkpoint: (root).layer_with_weights-0.layer_with_weights-4.keras_api.metrics\n",
      "WARNING:tensorflow:Unresolved object in checkpoint: (root).layer_with_weights-0.layer_with_weights-4.keras_api.layer_metrics\n",
      "WARNING:tensorflow:Unresolved object in checkpoint: (root).layer_with_weights-0.layer_with_weights-4.keras_api.layer_regularization_losses\n",
      "WARNING:tensorflow:Unresolved object in checkpoint: (root).layer_with_weights-0.layer_with_weights-5.keras_api.non_trainable_variables\n",
      "WARNING:tensorflow:Unresolved object in checkpoint: (root).layer_with_weights-0.layer_with_weights-5.keras_api.layers\n",
      "WARNING:tensorflow:Unresolved object in checkpoint: (root).layer_with_weights-0.layer_with_weights-5.keras_api.metrics\n",
      "WARNING:tensorflow:Unresolved object in checkpoint: (root).layer_with_weights-0.layer_with_weights-5.keras_api.layer_metrics\n",
      "WARNING:tensorflow:Unresolved object in checkpoint: (root).layer_with_weights-0.layer_with_weights-5.keras_api.layer_regularization_losses\n",
      "WARNING:tensorflow:Unresolved object in checkpoint: (root).layer_with_weights-0.layer_with_weights-6.keras_api.non_trainable_variables\n",
      "WARNING:tensorflow:Unresolved object in checkpoint: (root).layer_with_weights-0.layer_with_weights-6.keras_api.layers\n",
      "WARNING:tensorflow:Unresolved object in checkpoint: (root).layer_with_weights-0.layer_with_weights-6.keras_api.metrics\n",
      "WARNING:tensorflow:Unresolved object in checkpoint: (root).layer_with_weights-0.layer_with_weights-6.keras_api.layer_metrics\n",
      "WARNING:tensorflow:Unresolved object in checkpoint: (root).layer_with_weights-0.layer_with_weights-6.keras_api.layer_regularization_losses\n",
      "WARNING:tensorflow:Unresolved object in checkpoint: (root).layer_with_weights-0.layer-10.keras_api.non_trainable_variables\n",
      "WARNING:tensorflow:Unresolved object in checkpoint: (root).layer_with_weights-0.layer-10.keras_api.layers\n",
      "WARNING:tensorflow:Unresolved object in checkpoint: (root).layer_with_weights-0.layer-10.keras_api.metrics\n",
      "WARNING:tensorflow:Unresolved object in checkpoint: (root).layer_with_weights-0.layer-10.keras_api.layer_metrics\n",
      "WARNING:tensorflow:Unresolved object in checkpoint: (root).layer_with_weights-0.layer-10.keras_api.layer_regularization_losses\n",
      "WARNING:tensorflow:Unresolved object in checkpoint: (root).layer_with_weights-0.layer_with_weights-7.keras_api.non_trainable_variables\n",
      "WARNING:tensorflow:Unresolved object in checkpoint: (root).layer_with_weights-0.layer_with_weights-7.keras_api.layers\n",
      "WARNING:tensorflow:Unresolved object in checkpoint: (root).layer_with_weights-0.layer_with_weights-7.keras_api.metrics\n",
      "WARNING:tensorflow:Unresolved object in checkpoint: (root).layer_with_weights-0.layer_with_weights-7.keras_api.layer_metrics\n",
      "WARNING:tensorflow:Unresolved object in checkpoint: (root).layer_with_weights-0.layer_with_weights-7.keras_api.layer_regularization_losses\n",
      "WARNING:tensorflow:Unresolved object in checkpoint: (root).layer_with_weights-0.layer_with_weights-8.keras_api.non_trainable_variables\n",
      "WARNING:tensorflow:Unresolved object in checkpoint: (root).layer_with_weights-0.layer_with_weights-8.keras_api.layers\n",
      "WARNING:tensorflow:Unresolved object in checkpoint: (root).layer_with_weights-0.layer_with_weights-8.keras_api.metrics\n",
      "WARNING:tensorflow:Unresolved object in checkpoint: (root).layer_with_weights-0.layer_with_weights-8.keras_api.layer_metrics\n",
      "WARNING:tensorflow:Unresolved object in checkpoint: (root).layer_with_weights-0.layer_with_weights-8.keras_api.layer_regularization_losses\n",
      "WARNING:tensorflow:Unresolved object in checkpoint: (root).layer_with_weights-0.layer_with_weights-9.keras_api.non_trainable_variables\n",
      "WARNING:tensorflow:Unresolved object in checkpoint: (root).layer_with_weights-0.layer_with_weights-9.keras_api.layers\n",
      "WARNING:tensorflow:Unresolved object in checkpoint: (root).layer_with_weights-0.layer_with_weights-9.keras_api.metrics\n",
      "WARNING:tensorflow:Unresolved object in checkpoint: (root).layer_with_weights-0.layer_with_weights-9.keras_api.layer_metrics\n",
      "WARNING:tensorflow:Unresolved object in checkpoint: (root).layer_with_weights-0.layer_with_weights-9.keras_api.layer_regularization_losses\n",
      "WARNING:tensorflow:Unresolved object in checkpoint: (root).layer_with_weights-0.layer-14.keras_api.non_trainable_variables\n",
      "WARNING:tensorflow:Unresolved object in checkpoint: (root).layer_with_weights-0.layer-14.keras_api.layers\n",
      "WARNING:tensorflow:Unresolved object in checkpoint: (root).layer_with_weights-0.layer-14.keras_api.metrics\n",
      "WARNING:tensorflow:Unresolved object in checkpoint: (root).layer_with_weights-0.layer-14.keras_api.layer_metrics\n",
      "WARNING:tensorflow:Unresolved object in checkpoint: (root).layer_with_weights-0.layer-14.keras_api.layer_regularization_losses\n",
      "WARNING:tensorflow:Unresolved object in checkpoint: (root).layer_with_weights-0.layer_with_weights-10.keras_api.non_trainable_variables\n",
      "WARNING:tensorflow:Unresolved object in checkpoint: (root).layer_with_weights-0.layer_with_weights-10.keras_api.layers\n",
      "WARNING:tensorflow:Unresolved object in checkpoint: (root).layer_with_weights-0.layer_with_weights-10.keras_api.metrics\n",
      "WARNING:tensorflow:Unresolved object in checkpoint: (root).layer_with_weights-0.layer_with_weights-10.keras_api.layer_metrics\n",
      "WARNING:tensorflow:Unresolved object in checkpoint: (root).layer_with_weights-0.layer_with_weights-10.keras_api.layer_regularization_losses\n",
      "WARNING:tensorflow:Unresolved object in checkpoint: (root).layer_with_weights-0.layer_with_weights-11.keras_api.non_trainable_variables\n",
      "WARNING:tensorflow:Unresolved object in checkpoint: (root).layer_with_weights-0.layer_with_weights-11.keras_api.layers\n",
      "WARNING:tensorflow:Unresolved object in checkpoint: (root).layer_with_weights-0.layer_with_weights-11.keras_api.metrics\n",
      "WARNING:tensorflow:Unresolved object in checkpoint: (root).layer_with_weights-0.layer_with_weights-11.keras_api.layer_metrics\n",
      "WARNING:tensorflow:Unresolved object in checkpoint: (root).layer_with_weights-0.layer_with_weights-11.keras_api.layer_regularization_losses\n",
      "WARNING:tensorflow:Unresolved object in checkpoint: (root).layer_with_weights-0.layer_with_weights-12.keras_api.non_trainable_variables\n",
      "WARNING:tensorflow:Unresolved object in checkpoint: (root).layer_with_weights-0.layer_with_weights-12.keras_api.layers\n",
      "WARNING:tensorflow:Unresolved object in checkpoint: (root).layer_with_weights-0.layer_with_weights-12.keras_api.metrics\n",
      "WARNING:tensorflow:Unresolved object in checkpoint: (root).layer_with_weights-0.layer_with_weights-12.keras_api.layer_metrics\n",
      "WARNING:tensorflow:Unresolved object in checkpoint: (root).layer_with_weights-0.layer_with_weights-12.keras_api.layer_regularization_losses\n",
      "WARNING:tensorflow:Unresolved object in checkpoint: (root).layer_with_weights-0.layer-18.keras_api.non_trainable_variables\n",
      "WARNING:tensorflow:Unresolved object in checkpoint: (root).layer_with_weights-0.layer-18.keras_api.layers\n",
      "WARNING:tensorflow:Unresolved object in checkpoint: (root).layer_with_weights-0.layer-18.keras_api.metrics\n",
      "WARNING:tensorflow:Unresolved object in checkpoint: (root).layer_with_weights-0.layer-18.keras_api.layer_metrics\n",
      "WARNING:tensorflow:Unresolved object in checkpoint: (root).layer_with_weights-0.layer-18.keras_api.layer_regularization_losses\n",
      "WARNING:tensorflow:Unresolved object in checkpoint: (root).keras_api.metrics.0.total\n",
      "WARNING:tensorflow:Unresolved object in checkpoint: (root).keras_api.metrics.0.count\n",
      "WARNING:tensorflow:Unresolved object in checkpoint: (root).keras_api.metrics.0.variables\n",
      "WARNING:tensorflow:Unresolved object in checkpoint: (root).keras_api.metrics.0.keras_api\n",
      "WARNING:tensorflow:Unresolved object in checkpoint: (root).keras_api.metrics.1.total\n",
      "WARNING:tensorflow:Unresolved object in checkpoint: (root).keras_api.metrics.1.count\n",
      "WARNING:tensorflow:Unresolved object in checkpoint: (root).keras_api.metrics.1._fn_kwargs\n",
      "WARNING:tensorflow:Unresolved object in checkpoint: (root).keras_api.metrics.1.variables\n",
      "WARNING:tensorflow:Unresolved object in checkpoint: (root).keras_api.metrics.1.keras_api\n",
      "WARNING:tensorflow:A checkpoint was restored (e.g. tf.train.Checkpoint.restore or tf.keras.Model.load_weights) but not all checkpointed values were used. See above for specific issues. Use expect_partial() on the load status object, e.g. tf.train.Checkpoint.restore(...).expect_partial(), to silence these warnings, or use assert_consumed() to make the check explicit. See https://www.tensorflow.org/guide/checkpoint#loading_mechanics for details.\n",
      "WARNING:tensorflow:Unresolved object in checkpoint: (root).regularization_losses\n",
      "WARNING:tensorflow:Unresolved object in checkpoint: (root).variables\n",
      "WARNING:tensorflow:Unresolved object in checkpoint: (root).trainable_variables\n",
      "WARNING:tensorflow:Unresolved object in checkpoint: (root).keras_api\n",
      "WARNING:tensorflow:Unresolved object in checkpoint: (root).signatures\n",
      "WARNING:tensorflow:Unresolved object in checkpoint: (root).layer_with_weights-0.regularization_losses\n",
      "WARNING:tensorflow:Unresolved object in checkpoint: (root).layer_with_weights-0.variables\n",
      "WARNING:tensorflow:Unresolved object in checkpoint: (root).layer_with_weights-0.trainable_variables\n",
      "WARNING:tensorflow:Unresolved object in checkpoint: (root).layer_with_weights-0.keras_api\n",
      "WARNING:tensorflow:Unresolved object in checkpoint: (root).layer-2.regularization_losses\n",
      "WARNING:tensorflow:Unresolved object in checkpoint: (root).layer-2.trainable_variables\n",
      "WARNING:tensorflow:Unresolved object in checkpoint: (root).layer-2.variables\n",
      "WARNING:tensorflow:Unresolved object in checkpoint: (root).layer-2.keras_api\n",
      "WARNING:tensorflow:Unresolved object in checkpoint: (root).layer_with_weights-1.regularization_losses\n",
      "WARNING:tensorflow:Unresolved object in checkpoint: (root).layer_with_weights-1.trainable_variables\n",
      "WARNING:tensorflow:Unresolved object in checkpoint: (root).layer_with_weights-1.variables\n",
      "WARNING:tensorflow:Unresolved object in checkpoint: (root).layer_with_weights-1.keras_api\n",
      "WARNING:tensorflow:Unresolved object in checkpoint: (root).layer-4.regularization_losses\n",
      "WARNING:tensorflow:Unresolved object in checkpoint: (root).layer-4.trainable_variables\n",
      "WARNING:tensorflow:Unresolved object in checkpoint: (root).layer-4.variables\n",
      "WARNING:tensorflow:Unresolved object in checkpoint: (root).layer-4.keras_api\n",
      "WARNING:tensorflow:Unresolved object in checkpoint: (root).layer_with_weights-2.regularization_losses\n",
      "WARNING:tensorflow:Unresolved object in checkpoint: (root).layer_with_weights-2.trainable_variables\n",
      "WARNING:tensorflow:Unresolved object in checkpoint: (root).layer_with_weights-2.variables\n",
      "WARNING:tensorflow:Unresolved object in checkpoint: (root).layer_with_weights-2.keras_api\n",
      "WARNING:tensorflow:Unresolved object in checkpoint: (root).keras_api.non_trainable_variables\n",
      "WARNING:tensorflow:Unresolved object in checkpoint: (root).keras_api.layers\n",
      "WARNING:tensorflow:Unresolved object in checkpoint: (root).keras_api.metrics\n",
      "WARNING:tensorflow:Unresolved object in checkpoint: (root).keras_api.layer_metrics\n",
      "WARNING:tensorflow:Unresolved object in checkpoint: (root).keras_api.layer_regularization_losses\n",
      "WARNING:tensorflow:Unresolved object in checkpoint: (root).layer_with_weights-0.layer_with_weights-0.regularization_losses\n",
      "WARNING:tensorflow:Unresolved object in checkpoint: (root).layer_with_weights-0.layer_with_weights-0.trainable_variables\n",
      "WARNING:tensorflow:Unresolved object in checkpoint: (root).layer_with_weights-0.layer_with_weights-0.variables\n",
      "WARNING:tensorflow:Unresolved object in checkpoint: (root).layer_with_weights-0.layer_with_weights-0.keras_api\n",
      "WARNING:tensorflow:Unresolved object in checkpoint: (root).layer_with_weights-0.layer_with_weights-1.regularization_losses\n",
      "WARNING:tensorflow:Unresolved object in checkpoint: (root).layer_with_weights-0.layer_with_weights-1.trainable_variables\n",
      "WARNING:tensorflow:Unresolved object in checkpoint: (root).layer_with_weights-0.layer_with_weights-1.variables\n",
      "WARNING:tensorflow:Unresolved object in checkpoint: (root).layer_with_weights-0.layer_with_weights-1.keras_api\n",
      "WARNING:tensorflow:Unresolved object in checkpoint: (root).layer_with_weights-0.layer-3.regularization_losses\n",
      "WARNING:tensorflow:Unresolved object in checkpoint: (root).layer_with_weights-0.layer-3.trainable_variables\n",
      "WARNING:tensorflow:Unresolved object in checkpoint: (root).layer_with_weights-0.layer-3.variables\n",
      "WARNING:tensorflow:Unresolved object in checkpoint: (root).layer_with_weights-0.layer-3.keras_api\n",
      "WARNING:tensorflow:Unresolved object in checkpoint: (root).layer_with_weights-0.layer_with_weights-2.regularization_losses\n",
      "WARNING:tensorflow:Unresolved object in checkpoint: (root).layer_with_weights-0.layer_with_weights-2.trainable_variables\n",
      "WARNING:tensorflow:Unresolved object in checkpoint: (root).layer_with_weights-0.layer_with_weights-2.variables\n",
      "WARNING:tensorflow:Unresolved object in checkpoint: (root).layer_with_weights-0.layer_with_weights-2.keras_api\n",
      "WARNING:tensorflow:Unresolved object in checkpoint: (root).layer_with_weights-0.layer_with_weights-3.regularization_losses\n",
      "WARNING:tensorflow:Unresolved object in checkpoint: (root).layer_with_weights-0.layer_with_weights-3.trainable_variables\n",
      "WARNING:tensorflow:Unresolved object in checkpoint: (root).layer_with_weights-0.layer_with_weights-3.variables\n",
      "WARNING:tensorflow:Unresolved object in checkpoint: (root).layer_with_weights-0.layer_with_weights-3.keras_api\n",
      "WARNING:tensorflow:Unresolved object in checkpoint: (root).layer_with_weights-0.layer-6.regularization_losses\n",
      "WARNING:tensorflow:Unresolved object in checkpoint: (root).layer_with_weights-0.layer-6.trainable_variables\n",
      "WARNING:tensorflow:Unresolved object in checkpoint: (root).layer_with_weights-0.layer-6.variables\n",
      "WARNING:tensorflow:Unresolved object in checkpoint: (root).layer_with_weights-0.layer-6.keras_api\n",
      "WARNING:tensorflow:Unresolved object in checkpoint: (root).layer_with_weights-0.layer_with_weights-4.regularization_losses\n",
      "WARNING:tensorflow:Unresolved object in checkpoint: (root).layer_with_weights-0.layer_with_weights-4.trainable_variables\n",
      "WARNING:tensorflow:Unresolved object in checkpoint: (root).layer_with_weights-0.layer_with_weights-4.variables\n",
      "WARNING:tensorflow:Unresolved object in checkpoint: (root).layer_with_weights-0.layer_with_weights-4.keras_api\n",
      "WARNING:tensorflow:Unresolved object in checkpoint: (root).layer_with_weights-0.layer_with_weights-5.regularization_losses\n",
      "WARNING:tensorflow:Unresolved object in checkpoint: (root).layer_with_weights-0.layer_with_weights-5.trainable_variables\n",
      "WARNING:tensorflow:Unresolved object in checkpoint: (root).layer_with_weights-0.layer_with_weights-5.variables\n",
      "WARNING:tensorflow:Unresolved object in checkpoint: (root).layer_with_weights-0.layer_with_weights-5.keras_api\n",
      "WARNING:tensorflow:Unresolved object in checkpoint: (root).layer_with_weights-0.layer_with_weights-6.regularization_losses\n",
      "WARNING:tensorflow:Unresolved object in checkpoint: (root).layer_with_weights-0.layer_with_weights-6.trainable_variables\n",
      "WARNING:tensorflow:Unresolved object in checkpoint: (root).layer_with_weights-0.layer_with_weights-6.variables\n",
      "WARNING:tensorflow:Unresolved object in checkpoint: (root).layer_with_weights-0.layer_with_weights-6.keras_api\n",
      "WARNING:tensorflow:Unresolved object in checkpoint: (root).layer_with_weights-0.layer-10.regularization_losses\n",
      "WARNING:tensorflow:Unresolved object in checkpoint: (root).layer_with_weights-0.layer-10.trainable_variables\n",
      "WARNING:tensorflow:Unresolved object in checkpoint: (root).layer_with_weights-0.layer-10.variables\n",
      "WARNING:tensorflow:Unresolved object in checkpoint: (root).layer_with_weights-0.layer-10.keras_api\n",
      "WARNING:tensorflow:Unresolved object in checkpoint: (root).layer_with_weights-0.layer_with_weights-7.regularization_losses\n",
      "WARNING:tensorflow:Unresolved object in checkpoint: (root).layer_with_weights-0.layer_with_weights-7.trainable_variables\n",
      "WARNING:tensorflow:Unresolved object in checkpoint: (root).layer_with_weights-0.layer_with_weights-7.variables\n",
      "WARNING:tensorflow:Unresolved object in checkpoint: (root).layer_with_weights-0.layer_with_weights-7.keras_api\n",
      "WARNING:tensorflow:Unresolved object in checkpoint: (root).layer_with_weights-0.layer_with_weights-8.regularization_losses\n",
      "WARNING:tensorflow:Unresolved object in checkpoint: (root).layer_with_weights-0.layer_with_weights-8.trainable_variables\n",
      "WARNING:tensorflow:Unresolved object in checkpoint: (root).layer_with_weights-0.layer_with_weights-8.variables\n",
      "WARNING:tensorflow:Unresolved object in checkpoint: (root).layer_with_weights-0.layer_with_weights-8.keras_api\n",
      "WARNING:tensorflow:Unresolved object in checkpoint: (root).layer_with_weights-0.layer_with_weights-9.regularization_losses\n",
      "WARNING:tensorflow:Unresolved object in checkpoint: (root).layer_with_weights-0.layer_with_weights-9.trainable_variables\n",
      "WARNING:tensorflow:Unresolved object in checkpoint: (root).layer_with_weights-0.layer_with_weights-9.variables\n",
      "WARNING:tensorflow:Unresolved object in checkpoint: (root).layer_with_weights-0.layer_with_weights-9.keras_api\n",
      "WARNING:tensorflow:Unresolved object in checkpoint: (root).layer_with_weights-0.layer-14.regularization_losses\n",
      "WARNING:tensorflow:Unresolved object in checkpoint: (root).layer_with_weights-0.layer-14.trainable_variables\n",
      "WARNING:tensorflow:Unresolved object in checkpoint: (root).layer_with_weights-0.layer-14.variables\n",
      "WARNING:tensorflow:Unresolved object in checkpoint: (root).layer_with_weights-0.layer-14.keras_api\n",
      "WARNING:tensorflow:Unresolved object in checkpoint: (root).layer_with_weights-0.layer_with_weights-10.regularization_losses\n",
      "WARNING:tensorflow:Unresolved object in checkpoint: (root).layer_with_weights-0.layer_with_weights-10.trainable_variables\n",
      "WARNING:tensorflow:Unresolved object in checkpoint: (root).layer_with_weights-0.layer_with_weights-10.variables\n",
      "WARNING:tensorflow:Unresolved object in checkpoint: (root).layer_with_weights-0.layer_with_weights-10.keras_api\n",
      "WARNING:tensorflow:Unresolved object in checkpoint: (root).layer_with_weights-0.layer_with_weights-11.regularization_losses\n",
      "WARNING:tensorflow:Unresolved object in checkpoint: (root).layer_with_weights-0.layer_with_weights-11.trainable_variables\n",
      "WARNING:tensorflow:Unresolved object in checkpoint: (root).layer_with_weights-0.layer_with_weights-11.variables\n",
      "WARNING:tensorflow:Unresolved object in checkpoint: (root).layer_with_weights-0.layer_with_weights-11.keras_api\n",
      "WARNING:tensorflow:Unresolved object in checkpoint: (root).layer_with_weights-0.layer_with_weights-12.regularization_losses\n",
      "WARNING:tensorflow:Unresolved object in checkpoint: (root).layer_with_weights-0.layer_with_weights-12.trainable_variables\n",
      "WARNING:tensorflow:Unresolved object in checkpoint: (root).layer_with_weights-0.layer_with_weights-12.variables\n",
      "WARNING:tensorflow:Unresolved object in checkpoint: (root).layer_with_weights-0.layer_with_weights-12.keras_api\n",
      "WARNING:tensorflow:Unresolved object in checkpoint: (root).layer_with_weights-0.layer-18.regularization_losses\n",
      "WARNING:tensorflow:Unresolved object in checkpoint: (root).layer_with_weights-0.layer-18.trainable_variables\n",
      "WARNING:tensorflow:Unresolved object in checkpoint: (root).layer_with_weights-0.layer-18.variables\n",
      "WARNING:tensorflow:Unresolved object in checkpoint: (root).layer_with_weights-0.layer-18.keras_api\n",
      "WARNING:tensorflow:Unresolved object in checkpoint: (root).layer_with_weights-0.keras_api.non_trainable_variables\n",
      "WARNING:tensorflow:Unresolved object in checkpoint: (root).layer_with_weights-0.keras_api.layers\n",
      "WARNING:tensorflow:Unresolved object in checkpoint: (root).layer_with_weights-0.keras_api.metrics\n",
      "WARNING:tensorflow:Unresolved object in checkpoint: (root).layer_with_weights-0.keras_api.layer_metrics\n",
      "WARNING:tensorflow:Unresolved object in checkpoint: (root).layer_with_weights-0.keras_api.layer_regularization_losses\n",
      "WARNING:tensorflow:Unresolved object in checkpoint: (root).layer-2.keras_api.non_trainable_variables\n",
      "WARNING:tensorflow:Unresolved object in checkpoint: (root).layer-2.keras_api.layers\n",
      "WARNING:tensorflow:Unresolved object in checkpoint: (root).layer-2.keras_api.metrics\n",
      "WARNING:tensorflow:Unresolved object in checkpoint: (root).layer-2.keras_api.layer_metrics\n",
      "WARNING:tensorflow:Unresolved object in checkpoint: (root).layer-2.keras_api.layer_regularization_losses\n",
      "WARNING:tensorflow:Unresolved object in checkpoint: (root).layer_with_weights-1.keras_api.non_trainable_variables\n",
      "WARNING:tensorflow:Unresolved object in checkpoint: (root).layer_with_weights-1.keras_api.layers\n",
      "WARNING:tensorflow:Unresolved object in checkpoint: (root).layer_with_weights-1.keras_api.metrics\n",
      "WARNING:tensorflow:Unresolved object in checkpoint: (root).layer_with_weights-1.keras_api.layer_metrics\n",
      "WARNING:tensorflow:Unresolved object in checkpoint: (root).layer_with_weights-1.keras_api.layer_regularization_losses\n",
      "WARNING:tensorflow:Unresolved object in checkpoint: (root).layer-4.keras_api.non_trainable_variables\n",
      "WARNING:tensorflow:Unresolved object in checkpoint: (root).layer-4.keras_api.layers\n",
      "WARNING:tensorflow:Unresolved object in checkpoint: (root).layer-4.keras_api.metrics\n",
      "WARNING:tensorflow:Unresolved object in checkpoint: (root).layer-4.keras_api.layer_metrics\n",
      "WARNING:tensorflow:Unresolved object in checkpoint: (root).layer-4.keras_api.layer_regularization_losses\n",
      "WARNING:tensorflow:Unresolved object in checkpoint: (root).layer_with_weights-2.keras_api.non_trainable_variables\n",
      "WARNING:tensorflow:Unresolved object in checkpoint: (root).layer_with_weights-2.keras_api.layers\n",
      "WARNING:tensorflow:Unresolved object in checkpoint: (root).layer_with_weights-2.keras_api.metrics\n",
      "WARNING:tensorflow:Unresolved object in checkpoint: (root).layer_with_weights-2.keras_api.layer_metrics\n",
      "WARNING:tensorflow:Unresolved object in checkpoint: (root).layer_with_weights-2.keras_api.layer_regularization_losses\n",
      "WARNING:tensorflow:Unresolved object in checkpoint: (root).keras_api.metrics.0\n",
      "WARNING:tensorflow:Unresolved object in checkpoint: (root).keras_api.metrics.1\n",
      "WARNING:tensorflow:Unresolved object in checkpoint: (root).layer_with_weights-0.layer_with_weights-0.keras_api.non_trainable_variables\n",
      "WARNING:tensorflow:Unresolved object in checkpoint: (root).layer_with_weights-0.layer_with_weights-0.keras_api.layers\n",
      "WARNING:tensorflow:Unresolved object in checkpoint: (root).layer_with_weights-0.layer_with_weights-0.keras_api.metrics\n",
      "WARNING:tensorflow:Unresolved object in checkpoint: (root).layer_with_weights-0.layer_with_weights-0.keras_api.layer_metrics\n",
      "WARNING:tensorflow:Unresolved object in checkpoint: (root).layer_with_weights-0.layer_with_weights-0.keras_api.layer_regularization_losses\n",
      "WARNING:tensorflow:Unresolved object in checkpoint: (root).layer_with_weights-0.layer_with_weights-1.keras_api.non_trainable_variables\n",
      "WARNING:tensorflow:Unresolved object in checkpoint: (root).layer_with_weights-0.layer_with_weights-1.keras_api.layers\n",
      "WARNING:tensorflow:Unresolved object in checkpoint: (root).layer_with_weights-0.layer_with_weights-1.keras_api.metrics\n",
      "WARNING:tensorflow:Unresolved object in checkpoint: (root).layer_with_weights-0.layer_with_weights-1.keras_api.layer_metrics\n",
      "WARNING:tensorflow:Unresolved object in checkpoint: (root).layer_with_weights-0.layer_with_weights-1.keras_api.layer_regularization_losses\n",
      "WARNING:tensorflow:Unresolved object in checkpoint: (root).layer_with_weights-0.layer-3.keras_api.non_trainable_variables\n",
      "WARNING:tensorflow:Unresolved object in checkpoint: (root).layer_with_weights-0.layer-3.keras_api.layers\n",
      "WARNING:tensorflow:Unresolved object in checkpoint: (root).layer_with_weights-0.layer-3.keras_api.metrics\n",
      "WARNING:tensorflow:Unresolved object in checkpoint: (root).layer_with_weights-0.layer-3.keras_api.layer_metrics\n",
      "WARNING:tensorflow:Unresolved object in checkpoint: (root).layer_with_weights-0.layer-3.keras_api.layer_regularization_losses\n",
      "WARNING:tensorflow:Unresolved object in checkpoint: (root).layer_with_weights-0.layer_with_weights-2.keras_api.non_trainable_variables\n",
      "WARNING:tensorflow:Unresolved object in checkpoint: (root).layer_with_weights-0.layer_with_weights-2.keras_api.layers\n",
      "WARNING:tensorflow:Unresolved object in checkpoint: (root).layer_with_weights-0.layer_with_weights-2.keras_api.metrics\n",
      "WARNING:tensorflow:Unresolved object in checkpoint: (root).layer_with_weights-0.layer_with_weights-2.keras_api.layer_metrics\n",
      "WARNING:tensorflow:Unresolved object in checkpoint: (root).layer_with_weights-0.layer_with_weights-2.keras_api.layer_regularization_losses\n",
      "WARNING:tensorflow:Unresolved object in checkpoint: (root).layer_with_weights-0.layer_with_weights-3.keras_api.non_trainable_variables\n",
      "WARNING:tensorflow:Unresolved object in checkpoint: (root).layer_with_weights-0.layer_with_weights-3.keras_api.layers\n",
      "WARNING:tensorflow:Unresolved object in checkpoint: (root).layer_with_weights-0.layer_with_weights-3.keras_api.metrics\n",
      "WARNING:tensorflow:Unresolved object in checkpoint: (root).layer_with_weights-0.layer_with_weights-3.keras_api.layer_metrics\n",
      "WARNING:tensorflow:Unresolved object in checkpoint: (root).layer_with_weights-0.layer_with_weights-3.keras_api.layer_regularization_losses\n",
      "WARNING:tensorflow:Unresolved object in checkpoint: (root).layer_with_weights-0.layer-6.keras_api.non_trainable_variables\n",
      "WARNING:tensorflow:Unresolved object in checkpoint: (root).layer_with_weights-0.layer-6.keras_api.layers\n",
      "WARNING:tensorflow:Unresolved object in checkpoint: (root).layer_with_weights-0.layer-6.keras_api.metrics\n",
      "WARNING:tensorflow:Unresolved object in checkpoint: (root).layer_with_weights-0.layer-6.keras_api.layer_metrics\n",
      "WARNING:tensorflow:Unresolved object in checkpoint: (root).layer_with_weights-0.layer-6.keras_api.layer_regularization_losses\n",
      "WARNING:tensorflow:Unresolved object in checkpoint: (root).layer_with_weights-0.layer_with_weights-4.keras_api.non_trainable_variables\n",
      "WARNING:tensorflow:Unresolved object in checkpoint: (root).layer_with_weights-0.layer_with_weights-4.keras_api.layers\n",
      "WARNING:tensorflow:Unresolved object in checkpoint: (root).layer_with_weights-0.layer_with_weights-4.keras_api.metrics\n",
      "WARNING:tensorflow:Unresolved object in checkpoint: (root).layer_with_weights-0.layer_with_weights-4.keras_api.layer_metrics\n",
      "WARNING:tensorflow:Unresolved object in checkpoint: (root).layer_with_weights-0.layer_with_weights-4.keras_api.layer_regularization_losses\n",
      "WARNING:tensorflow:Unresolved object in checkpoint: (root).layer_with_weights-0.layer_with_weights-5.keras_api.non_trainable_variables\n",
      "WARNING:tensorflow:Unresolved object in checkpoint: (root).layer_with_weights-0.layer_with_weights-5.keras_api.layers\n",
      "WARNING:tensorflow:Unresolved object in checkpoint: (root).layer_with_weights-0.layer_with_weights-5.keras_api.metrics\n",
      "WARNING:tensorflow:Unresolved object in checkpoint: (root).layer_with_weights-0.layer_with_weights-5.keras_api.layer_metrics\n",
      "WARNING:tensorflow:Unresolved object in checkpoint: (root).layer_with_weights-0.layer_with_weights-5.keras_api.layer_regularization_losses\n",
      "WARNING:tensorflow:Unresolved object in checkpoint: (root).layer_with_weights-0.layer_with_weights-6.keras_api.non_trainable_variables\n",
      "WARNING:tensorflow:Unresolved object in checkpoint: (root).layer_with_weights-0.layer_with_weights-6.keras_api.layers\n",
      "WARNING:tensorflow:Unresolved object in checkpoint: (root).layer_with_weights-0.layer_with_weights-6.keras_api.metrics\n",
      "WARNING:tensorflow:Unresolved object in checkpoint: (root).layer_with_weights-0.layer_with_weights-6.keras_api.layer_metrics\n",
      "WARNING:tensorflow:Unresolved object in checkpoint: (root).layer_with_weights-0.layer_with_weights-6.keras_api.layer_regularization_losses\n",
      "WARNING:tensorflow:Unresolved object in checkpoint: (root).layer_with_weights-0.layer-10.keras_api.non_trainable_variables\n",
      "WARNING:tensorflow:Unresolved object in checkpoint: (root).layer_with_weights-0.layer-10.keras_api.layers\n",
      "WARNING:tensorflow:Unresolved object in checkpoint: (root).layer_with_weights-0.layer-10.keras_api.metrics\n",
      "WARNING:tensorflow:Unresolved object in checkpoint: (root).layer_with_weights-0.layer-10.keras_api.layer_metrics\n",
      "WARNING:tensorflow:Unresolved object in checkpoint: (root).layer_with_weights-0.layer-10.keras_api.layer_regularization_losses\n",
      "WARNING:tensorflow:Unresolved object in checkpoint: (root).layer_with_weights-0.layer_with_weights-7.keras_api.non_trainable_variables\n",
      "WARNING:tensorflow:Unresolved object in checkpoint: (root).layer_with_weights-0.layer_with_weights-7.keras_api.layers\n",
      "WARNING:tensorflow:Unresolved object in checkpoint: (root).layer_with_weights-0.layer_with_weights-7.keras_api.metrics\n",
      "WARNING:tensorflow:Unresolved object in checkpoint: (root).layer_with_weights-0.layer_with_weights-7.keras_api.layer_metrics\n",
      "WARNING:tensorflow:Unresolved object in checkpoint: (root).layer_with_weights-0.layer_with_weights-7.keras_api.layer_regularization_losses\n",
      "WARNING:tensorflow:Unresolved object in checkpoint: (root).layer_with_weights-0.layer_with_weights-8.keras_api.non_trainable_variables\n",
      "WARNING:tensorflow:Unresolved object in checkpoint: (root).layer_with_weights-0.layer_with_weights-8.keras_api.layers\n",
      "WARNING:tensorflow:Unresolved object in checkpoint: (root).layer_with_weights-0.layer_with_weights-8.keras_api.metrics\n",
      "WARNING:tensorflow:Unresolved object in checkpoint: (root).layer_with_weights-0.layer_with_weights-8.keras_api.layer_metrics\n",
      "WARNING:tensorflow:Unresolved object in checkpoint: (root).layer_with_weights-0.layer_with_weights-8.keras_api.layer_regularization_losses\n",
      "WARNING:tensorflow:Unresolved object in checkpoint: (root).layer_with_weights-0.layer_with_weights-9.keras_api.non_trainable_variables\n",
      "WARNING:tensorflow:Unresolved object in checkpoint: (root).layer_with_weights-0.layer_with_weights-9.keras_api.layers\n",
      "WARNING:tensorflow:Unresolved object in checkpoint: (root).layer_with_weights-0.layer_with_weights-9.keras_api.metrics\n",
      "WARNING:tensorflow:Unresolved object in checkpoint: (root).layer_with_weights-0.layer_with_weights-9.keras_api.layer_metrics\n",
      "WARNING:tensorflow:Unresolved object in checkpoint: (root).layer_with_weights-0.layer_with_weights-9.keras_api.layer_regularization_losses\n",
      "WARNING:tensorflow:Unresolved object in checkpoint: (root).layer_with_weights-0.layer-14.keras_api.non_trainable_variables\n",
      "WARNING:tensorflow:Unresolved object in checkpoint: (root).layer_with_weights-0.layer-14.keras_api.layers\n",
      "WARNING:tensorflow:Unresolved object in checkpoint: (root).layer_with_weights-0.layer-14.keras_api.metrics\n",
      "WARNING:tensorflow:Unresolved object in checkpoint: (root).layer_with_weights-0.layer-14.keras_api.layer_metrics\n",
      "WARNING:tensorflow:Unresolved object in checkpoint: (root).layer_with_weights-0.layer-14.keras_api.layer_regularization_losses\n",
      "WARNING:tensorflow:Unresolved object in checkpoint: (root).layer_with_weights-0.layer_with_weights-10.keras_api.non_trainable_variables\n",
      "WARNING:tensorflow:Unresolved object in checkpoint: (root).layer_with_weights-0.layer_with_weights-10.keras_api.layers\n",
      "WARNING:tensorflow:Unresolved object in checkpoint: (root).layer_with_weights-0.layer_with_weights-10.keras_api.metrics\n",
      "WARNING:tensorflow:Unresolved object in checkpoint: (root).layer_with_weights-0.layer_with_weights-10.keras_api.layer_metrics\n",
      "WARNING:tensorflow:Unresolved object in checkpoint: (root).layer_with_weights-0.layer_with_weights-10.keras_api.layer_regularization_losses\n",
      "WARNING:tensorflow:Unresolved object in checkpoint: (root).layer_with_weights-0.layer_with_weights-11.keras_api.non_trainable_variables\n",
      "WARNING:tensorflow:Unresolved object in checkpoint: (root).layer_with_weights-0.layer_with_weights-11.keras_api.layers\n",
      "WARNING:tensorflow:Unresolved object in checkpoint: (root).layer_with_weights-0.layer_with_weights-11.keras_api.metrics\n",
      "WARNING:tensorflow:Unresolved object in checkpoint: (root).layer_with_weights-0.layer_with_weights-11.keras_api.layer_metrics\n",
      "WARNING:tensorflow:Unresolved object in checkpoint: (root).layer_with_weights-0.layer_with_weights-11.keras_api.layer_regularization_losses\n",
      "WARNING:tensorflow:Unresolved object in checkpoint: (root).layer_with_weights-0.layer_with_weights-12.keras_api.non_trainable_variables\n",
      "WARNING:tensorflow:Unresolved object in checkpoint: (root).layer_with_weights-0.layer_with_weights-12.keras_api.layers\n",
      "WARNING:tensorflow:Unresolved object in checkpoint: (root).layer_with_weights-0.layer_with_weights-12.keras_api.metrics\n",
      "WARNING:tensorflow:Unresolved object in checkpoint: (root).layer_with_weights-0.layer_with_weights-12.keras_api.layer_metrics\n",
      "WARNING:tensorflow:Unresolved object in checkpoint: (root).layer_with_weights-0.layer_with_weights-12.keras_api.layer_regularization_losses\n",
      "WARNING:tensorflow:Unresolved object in checkpoint: (root).layer_with_weights-0.layer-18.keras_api.non_trainable_variables\n",
      "WARNING:tensorflow:Unresolved object in checkpoint: (root).layer_with_weights-0.layer-18.keras_api.layers\n",
      "WARNING:tensorflow:Unresolved object in checkpoint: (root).layer_with_weights-0.layer-18.keras_api.metrics\n",
      "WARNING:tensorflow:Unresolved object in checkpoint: (root).layer_with_weights-0.layer-18.keras_api.layer_metrics\n",
      "WARNING:tensorflow:Unresolved object in checkpoint: (root).layer_with_weights-0.layer-18.keras_api.layer_regularization_losses\n",
      "WARNING:tensorflow:Unresolved object in checkpoint: (root).keras_api.metrics.0.total\n",
      "WARNING:tensorflow:Unresolved object in checkpoint: (root).keras_api.metrics.0.count\n",
      "WARNING:tensorflow:Unresolved object in checkpoint: (root).keras_api.metrics.0.variables\n",
      "WARNING:tensorflow:Unresolved object in checkpoint: (root).keras_api.metrics.0.keras_api\n",
      "WARNING:tensorflow:Unresolved object in checkpoint: (root).keras_api.metrics.1.total\n",
      "WARNING:tensorflow:Unresolved object in checkpoint: (root).keras_api.metrics.1.count\n",
      "WARNING:tensorflow:Unresolved object in checkpoint: (root).keras_api.metrics.1._fn_kwargs\n",
      "WARNING:tensorflow:Unresolved object in checkpoint: (root).keras_api.metrics.1.variables\n",
      "WARNING:tensorflow:Unresolved object in checkpoint: (root).keras_api.metrics.1.keras_api\n",
      "WARNING:tensorflow:A checkpoint was restored (e.g. tf.train.Checkpoint.restore or tf.keras.Model.load_weights) but not all checkpointed values were used. See above for specific issues. Use expect_partial() on the load status object, e.g. tf.train.Checkpoint.restore(...).expect_partial(), to silence these warnings, or use assert_consumed() to make the check explicit. See https://www.tensorflow.org/guide/checkpoint#loading_mechanics for details.\n"
     ]
    }
   ],
   "source": [
    "# Creating Json File to submit the solution\n",
    "final_output = {}\n",
    "for folder in os.listdir(\"test2\"):\n",
    "    for image_name in os.listdir(os.path.join(\"test2\", folder)):\n",
    "        img_ = image.load_img(os.path.join(\"test2\", folder, image_name), \n",
    "                              target_size=(64, 64), color_mode=\"rgb\")\n",
    "        img_arr = image.img_to_array(img_)\n",
    "        img_arr = preprocess_input(img_arr)\n",
    "        img_batch = np.array([img_arr])\n",
    "        output = model.predict(img_batch)\n",
    "        if output > 0.5:\n",
    "            final_output[image_name] = 1\n",
    "        else:\n",
    "            final_output[image_name] = 0"
   ]
  },
  {
   "cell_type": "code",
   "execution_count": 128,
   "id": "014dd312",
   "metadata": {
    "id": "014dd312"
   },
   "outputs": [],
   "source": [
    "with open(\"result.json\", \"w\") as file:\n",
    "    json.dump(final_output, file)"
   ]
  },
  {
   "cell_type": "code",
   "execution_count": 129,
   "id": "w26D9i0Ywx6K",
   "metadata": {
    "colab": {
     "base_uri": "https://localhost:8080/"
    },
    "id": "w26D9i0Ywx6K",
    "outputId": "be942226-f2c1-414f-d34f-9f94179423ee"
   },
   "outputs": [
    {
     "name": "stdout",
     "output_type": "stream",
     "text": [
      "updating: tmp/ (stored 0%)\n",
      "updating: tmp/assets/ (stored 0%)\n",
      "updating: tmp/saved_model.pb (deflated 90%)\n",
      "updating: tmp/keras_metadata.pb (deflated 96%)\n",
      "updating: tmp/variables/ (stored 0%)\n",
      "updating: tmp/variables/variables.data-00000-of-00001 (deflated 15%)\n",
      "updating: tmp/variables/variables.index (deflated 74%)\n"
     ]
    }
   ],
   "source": [
    "!zip -r tmp.zip tmp"
   ]
  },
  {
   "cell_type": "code",
   "execution_count": 130,
   "id": "77EemN9PxHx0",
   "metadata": {
    "colab": {
     "base_uri": "https://localhost:8080/",
     "height": 34
    },
    "id": "77EemN9PxHx0",
    "outputId": "839c7f4c-63e9-4672-d1d3-1a5fd2e0e0e4"
   },
   "outputs": [
    {
     "data": {
      "application/javascript": [
       "\n",
       "    async function download(id, filename, size) {\n",
       "      if (!google.colab.kernel.accessAllowed) {\n",
       "        return;\n",
       "      }\n",
       "      const div = document.createElement('div');\n",
       "      const label = document.createElement('label');\n",
       "      label.textContent = `Downloading \"${filename}\": `;\n",
       "      div.appendChild(label);\n",
       "      const progress = document.createElement('progress');\n",
       "      progress.max = size;\n",
       "      div.appendChild(progress);\n",
       "      document.body.appendChild(div);\n",
       "\n",
       "      const buffers = [];\n",
       "      let downloaded = 0;\n",
       "\n",
       "      const channel = await google.colab.kernel.comms.open(id);\n",
       "      // Send a message to notify the kernel that we're ready.\n",
       "      channel.send({})\n",
       "\n",
       "      for await (const message of channel.messages) {\n",
       "        // Send a message to notify the kernel that we're ready.\n",
       "        channel.send({})\n",
       "        if (message.buffers) {\n",
       "          for (const buffer of message.buffers) {\n",
       "            buffers.push(buffer);\n",
       "            downloaded += buffer.byteLength;\n",
       "            progress.value = downloaded;\n",
       "          }\n",
       "        }\n",
       "      }\n",
       "      const blob = new Blob(buffers, {type: 'application/binary'});\n",
       "      const a = document.createElement('a');\n",
       "      a.href = window.URL.createObjectURL(blob);\n",
       "      a.download = filename;\n",
       "      div.appendChild(a);\n",
       "      a.click();\n",
       "      div.remove();\n",
       "    }\n",
       "  "
      ],
      "text/plain": [
       "<IPython.core.display.Javascript object>"
      ]
     },
     "metadata": {},
     "output_type": "display_data"
    },
    {
     "data": {
      "application/javascript": [
       "download(\"download_1508af25-0c2e-440b-8c78-4335886408e0\", \"tmp.zip\", 150428734)"
      ],
      "text/plain": [
       "<IPython.core.display.Javascript object>"
      ]
     },
     "metadata": {},
     "output_type": "display_data"
    }
   ],
   "source": [
    "from google.colab import files\n",
    "files.download(\"tmp.zip\")"
   ]
  },
  {
   "cell_type": "code",
   "execution_count": null,
   "id": "m-lK0QoRxLlf",
   "metadata": {
    "id": "m-lK0QoRxLlf"
   },
   "outputs": [],
   "source": []
  }
 ],
 "metadata": {
  "accelerator": "GPU",
  "colab": {
   "name": "training.ipynb",
   "provenance": []
  },
  "kernelspec": {
   "display_name": "Python 3",
   "language": "python",
   "name": "python3"
  },
  "language_info": {
   "codemirror_mode": {
    "name": "ipython",
    "version": 3
   },
   "file_extension": ".py",
   "mimetype": "text/x-python",
   "name": "python",
   "nbconvert_exporter": "python",
   "pygments_lexer": "ipython3",
   "version": "3.8.8"
  }
 },
 "nbformat": 4,
 "nbformat_minor": 5
}
